{
  "nbformat": 4,
  "nbformat_minor": 0,
  "metadata": {
    "colab": {
      "provenance": [],
      "collapsed_sections": [
        "J2ulGvCX-x_l",
        "L7wDbO9uDMKu",
        "JEgSFQ-bCzR9",
        "fnH0S9w3EDeD",
        "wrJUUy_uEY2q",
        "6Mc9VXlDF6tR",
        "GIL-HrtgKqU2",
        "eXNxrIyHGtqL",
        "iQYLR5JfIcei",
        "Wtm0hc1jK-Fv",
        "v1Z7wySFP87B",
        "51KcIbL4Lc81",
        "SBg9UEDtL65Z",
        "1GUJIomQO8XX",
        "e8TFuA75Bzbu",
        "FoBJ8zGh31Fp"
      ]
    },
    "kernelspec": {
      "name": "python3",
      "display_name": "Python 3"
    },
    "language_info": {
      "name": "python"
    }
  },
  "cells": [
    {
      "cell_type": "markdown",
      "source": [
        "#O que é NumPy\n",
        "\n",
        "O NumPy oferece funções matemáticas, geradores de números aleatórios, rotinas de álgebra linear, transformadas de Fourier e muito mais.\n",
        "\n",
        "Com o NumPy é possível trabalhar com numeros em todas as suas formas, como exemplificado na figura abaixo.\n",
        "\n",
        "| ![Dados](https://i0.wp.com/dadosaocubo.com/wp-content/uploads/2020/07/image1-3.png?w=880&ssl=1) |\n",
        "|:--:| \n",
        "| **Figura** – _Escalares, vetores, matrizes e tensores_ (Fonte da imagem: internet, autor desconhecido) |"
      ],
      "metadata": {
        "id": "3SZH-aaOWhFt"
      }
    },
    {
      "cell_type": "code",
      "execution_count": null,
      "metadata": {
        "id": "qMv5G-sT56vX"
      },
      "outputs": [],
      "source": [
        "###Importando a biblioteca NumPy\n",
        "import numpy as np"
      ]
    },
    {
      "cell_type": "code",
      "source": [
        "###Criando uma estrutura unidimensional\n",
        "arraynp = np.array(['João', 'Maria', 'José'])\n",
        "print(arraynp)"
      ],
      "metadata": {
        "colab": {
          "base_uri": "https://localhost:8080/"
        },
        "id": "k3H8-tQt8sHt",
        "outputId": "d97e79cb-2e97-4650-a11d-0f8dcaf174a8"
      },
      "execution_count": null,
      "outputs": [
        {
          "output_type": "stream",
          "name": "stdout",
          "text": [
            "['João' 'Maria' 'José']\n"
          ]
        }
      ]
    },
    {
      "cell_type": "code",
      "source": [
        "#Criar array com numeros aleatórios\n",
        "#Sintaxe:   numpy.random.randint (menor numero, maior numero - opcional, tamanho - opcional, dtype - opcional)\n",
        "arrayrandom = np.random.randint(0,100,50)\n",
        "arrayrandom\n"
      ],
      "metadata": {
        "colab": {
          "base_uri": "https://localhost:8080/"
        },
        "id": "fStfRtimQUUg",
        "outputId": "598b6df4-172d-4fef-e287-75f081e33773"
      },
      "execution_count": null,
      "outputs": [
        {
          "output_type": "execute_result",
          "data": {
            "text/plain": [
              "array([43, 36, 56, 26, 76, 22, 43, 63,  0, 92, 69, 51, 27, 74, 85, 94, 86,\n",
              "       94, 85, 68, 89, 59, 34, 95, 55, 11, 83, 13, 30, 77, 24, 99, 36, 59,\n",
              "       76, 37, 17, 81, 56,  1, 47, 46, 44,  9, 43, 98, 42,  6, 47, 73])"
            ]
          },
          "metadata": {},
          "execution_count": 3
        }
      ]
    },
    {
      "cell_type": "code",
      "source": [
        "arraynp2 = np.array([[10,20,30],[40,50,60],[70,80,90]])\n",
        "arraynp2"
      ],
      "metadata": {
        "colab": {
          "base_uri": "https://localhost:8080/"
        },
        "id": "O4QzKYct918P",
        "outputId": "4ff19a95-846c-41a7-dd99-d8d4384e88cc"
      },
      "execution_count": null,
      "outputs": [
        {
          "output_type": "execute_result",
          "data": {
            "text/plain": [
              "array([[10, 20, 30],\n",
              "       [40, 50, 60],\n",
              "       [70, 80, 90]])"
            ]
          },
          "metadata": {},
          "execution_count": 4
        }
      ]
    },
    {
      "cell_type": "code",
      "source": [
        "arrayvazio = [0]*3\n",
        "type(arrayvazio)\n",
        "#arrayvazio"
      ],
      "metadata": {
        "colab": {
          "base_uri": "https://localhost:8080/"
        },
        "id": "7krLVwwTJjIn",
        "outputId": "2179f38b-872d-4b4b-d3ff-9f6f453faf54"
      },
      "execution_count": null,
      "outputs": [
        {
          "output_type": "execute_result",
          "data": {
            "text/plain": [
              "list"
            ]
          },
          "metadata": {},
          "execution_count": 5
        }
      ]
    },
    {
      "cell_type": "code",
      "source": [
        "arrayvazio2 = np.array(arrayvazio)\n",
        "type(arrayvazio2)"
      ],
      "metadata": {
        "colab": {
          "base_uri": "https://localhost:8080/"
        },
        "id": "mNI2gpmlJ64v",
        "outputId": "b38de8b0-1680-4f00-bd0a-511bda2548f6"
      },
      "execution_count": null,
      "outputs": [
        {
          "output_type": "execute_result",
          "data": {
            "text/plain": [
              "numpy.ndarray"
            ]
          },
          "metadata": {},
          "execution_count": 6
        }
      ]
    },
    {
      "cell_type": "markdown",
      "source": [
        "#Array podem ter listas de tipos diferentes"
      ],
      "metadata": {
        "id": "cizkhWzU9aLb"
      }
    },
    {
      "cell_type": "code",
      "source": [
        "arraynp3 = np.array([['altura','largura'],[175,180],[150,140],[180,150]])\n",
        "arraynp3"
      ],
      "metadata": {
        "colab": {
          "base_uri": "https://localhost:8080/"
        },
        "id": "hJ9geSSz9hai",
        "outputId": "c57d2ac3-a95f-4b2a-eebe-cdeb52d58dce"
      },
      "execution_count": null,
      "outputs": [
        {
          "output_type": "execute_result",
          "data": {
            "text/plain": [
              "array([['altura', 'largura'],\n",
              "       ['175', '180'],\n",
              "       ['150', '140'],\n",
              "       ['180', '150']], dtype='<U21')"
            ]
          },
          "metadata": {},
          "execution_count": 31
        }
      ]
    },
    {
      "cell_type": "markdown",
      "source": [
        "#Como ver o tamanho do array?\n",
        "\n",
        "\n"
      ],
      "metadata": {
        "id": "PLcQQXn9-CBy"
      }
    },
    {
      "cell_type": "code",
      "source": [
        "print(arraynp.shape)\n",
        "print(arraynp2.shape)\n",
        "print(arraynp3.shape)\n",
        "#linha coluna"
      ],
      "metadata": {
        "colab": {
          "base_uri": "https://localhost:8080/"
        },
        "id": "YPvR92Wy-FLr",
        "outputId": "14f42486-4176-4d30-cdf0-25b3c77f11d7"
      },
      "execution_count": null,
      "outputs": [
        {
          "output_type": "stream",
          "name": "stdout",
          "text": [
            "(3,)\n",
            "(3, 3)\n",
            "(4, 2)\n"
          ]
        }
      ]
    },
    {
      "cell_type": "code",
      "source": [
        "arraynp4 = np.array([[1],[1]])\n",
        "arraynp4.shape"
      ],
      "metadata": {
        "colab": {
          "base_uri": "https://localhost:8080/"
        },
        "id": "Uv-T74H20A57",
        "outputId": "fcfdd9d7-1003-4dcc-ced4-5a9e522b2b25"
      },
      "execution_count": null,
      "outputs": [
        {
          "output_type": "execute_result",
          "data": {
            "text/plain": [
              "(2, 1)"
            ]
          },
          "metadata": {},
          "execution_count": 36
        }
      ]
    },
    {
      "cell_type": "markdown",
      "source": [
        "#Como ver as dimensões do array?\n",
        "\n",
        "![NumPy_ndarray](https://s3-sa-east-1.amazonaws.com/lcpi/b50bd331-732b-48a4-9d46-01f20c15ab29.png \"ndarrays\")\n"
      ],
      "metadata": {
        "id": "kgELP7fE-YMC"
      }
    },
    {
      "cell_type": "code",
      "source": [
        "print(arraynp.ndim)\n",
        "print(arraynp2.ndim)\n",
        "print(arraynp3.ndim)"
      ],
      "metadata": {
        "colab": {
          "base_uri": "https://localhost:8080/"
        },
        "id": "FiPM1qZ9-bLu",
        "outputId": "a27545b4-2c7e-4f4e-e07a-52f09d0a346a"
      },
      "execution_count": null,
      "outputs": [
        {
          "output_type": "stream",
          "name": "stdout",
          "text": [
            "1\n",
            "2\n",
            "2\n"
          ]
        }
      ]
    },
    {
      "cell_type": "markdown",
      "source": [
        "#Número de elementos"
      ],
      "metadata": {
        "id": "TwDWgjd7lqUD"
      }
    },
    {
      "cell_type": "code",
      "source": [
        "print(arraynp)\n",
        "print(arraynp.size)\n",
        "print(arraynp2)\n",
        "print(arraynp2.size)\n",
        "print(arraynp3)\n",
        "print(arraynp3.size)"
      ],
      "metadata": {
        "colab": {
          "base_uri": "https://localhost:8080/"
        },
        "id": "0xwn8pivlsKQ",
        "outputId": "c969d36f-dfa1-41c7-dd64-e700d51d8c66"
      },
      "execution_count": null,
      "outputs": [
        {
          "output_type": "stream",
          "name": "stdout",
          "text": [
            "['João' 'Maria' 'José']\n",
            "3\n",
            "[[10 20 30]\n",
            " [40 50 60]\n",
            " [70 80 90]]\n",
            "9\n",
            "[['altura' 'largura']\n",
            " ['175' '180']\n",
            " ['150' '140']\n",
            " ['180' '150']]\n",
            "8\n"
          ]
        }
      ]
    },
    {
      "cell_type": "markdown",
      "source": [
        "#Método arange"
      ],
      "metadata": {
        "id": "J2ulGvCX-x_l"
      }
    },
    {
      "cell_type": "code",
      "source": [
        "arrayarange = np.arange(20)\n",
        "arrayarange"
      ],
      "metadata": {
        "colab": {
          "base_uri": "https://localhost:8080/"
        },
        "id": "WM-v5WJz-zvj",
        "outputId": "3ca10e0b-2fea-4f22-948f-51b7f9a39bed"
      },
      "execution_count": null,
      "outputs": [
        {
          "output_type": "execute_result",
          "data": {
            "text/plain": [
              "array([ 0,  1,  2,  3,  4,  5,  6,  7,  8,  9, 10, 11, 12, 13, 14, 15, 16,\n",
              "       17, 18, 19])"
            ]
          },
          "metadata": {},
          "execution_count": 92
        }
      ]
    },
    {
      "cell_type": "code",
      "source": [
        "arrayarange2 = np.arange(0,50,1)\n",
        "arrayarange2"
      ],
      "metadata": {
        "colab": {
          "base_uri": "https://localhost:8080/"
        },
        "id": "4dCxz98b_IgB",
        "outputId": "2d47877f-099f-482e-9076-750f4e668ba2"
      },
      "execution_count": null,
      "outputs": [
        {
          "output_type": "execute_result",
          "data": {
            "text/plain": [
              "array([ 0,  1,  2,  3,  4,  5,  6,  7,  8,  9, 10, 11, 12, 13, 14, 15, 16,\n",
              "       17, 18, 19, 20, 21, 22, 23, 24, 25, 26, 27, 28, 29, 30, 31, 32, 33,\n",
              "       34, 35, 36, 37, 38, 39, 40, 41, 42, 43, 44, 45, 46, 47, 48, 49])"
            ]
          },
          "metadata": {},
          "execution_count": 56
        }
      ]
    },
    {
      "cell_type": "markdown",
      "source": [
        "# Método linspace"
      ],
      "metadata": {
        "id": "L7wDbO9uDMKu"
      }
    },
    {
      "cell_type": "code",
      "source": [
        "#A diferença aqui é que o último número é a quantidade de elementos no array, e não o incremento\n",
        "arraylinspace1 = np.linspace(1,10,3)\n",
        "arraylinspace1"
      ],
      "metadata": {
        "colab": {
          "base_uri": "https://localhost:8080/"
        },
        "id": "qjSGQtR7DSwJ",
        "outputId": "61d34e17-a9aa-4d97-b186-f1ce504682a9"
      },
      "execution_count": null,
      "outputs": [
        {
          "output_type": "execute_result",
          "data": {
            "text/plain": [
              "array([ 1. ,  5.5, 10. ])"
            ]
          },
          "metadata": {},
          "execution_count": 53
        }
      ]
    },
    {
      "cell_type": "code",
      "source": [
        "arraylinspace2 = np.linspace(0,10,20)\n",
        "arraylinspace2"
      ],
      "metadata": {
        "colab": {
          "base_uri": "https://localhost:8080/"
        },
        "id": "wRwtpB8BDl4E",
        "outputId": "b115bfe3-b545-422f-8cad-1e09b70cf943"
      },
      "execution_count": null,
      "outputs": [
        {
          "output_type": "execute_result",
          "data": {
            "text/plain": [
              "array([ 0.        ,  0.52631579,  1.05263158,  1.57894737,  2.10526316,\n",
              "        2.63157895,  3.15789474,  3.68421053,  4.21052632,  4.73684211,\n",
              "        5.26315789,  5.78947368,  6.31578947,  6.84210526,  7.36842105,\n",
              "        7.89473684,  8.42105263,  8.94736842,  9.47368421, 10.        ])"
            ]
          },
          "metadata": {},
          "execution_count": 13
        }
      ]
    },
    {
      "cell_type": "markdown",
      "source": [
        "# Exercício 1\n",
        "### Crie um array de com o primeiro elemento sendo o número 5 e o último elemento o número 100, de 5 em 5 números"
      ],
      "metadata": {
        "id": "JEgSFQ-bCzR9"
      }
    },
    {
      "cell_type": "code",
      "source": [
        "arrayfinal = np.arange(5,101,5)\n",
        "arrayfinal"
      ],
      "metadata": {
        "colab": {
          "base_uri": "https://localhost:8080/"
        },
        "id": "K-mWV94k3Le7",
        "outputId": "56b32dc4-e280-4df5-e995-49a81e12d409"
      },
      "execution_count": null,
      "outputs": [
        {
          "output_type": "execute_result",
          "data": {
            "text/plain": [
              "array([  5,  10,  15,  20,  25,  30,  35,  40,  45,  50,  55,  60,  65,\n",
              "        70,  75,  80,  85,  90,  95, 100])"
            ]
          },
          "metadata": {},
          "execution_count": 60
        }
      ]
    },
    {
      "cell_type": "markdown",
      "source": [
        "# Exercício 2\n",
        "### Crie um array de números entre 1 e 20 com 50 números entre eles."
      ],
      "metadata": {
        "id": "fnH0S9w3EDeD"
      }
    },
    {
      "cell_type": "code",
      "source": [
        "arrayfinal = np.linspace(1,20,50)\n",
        "np.round(arrayfinal,2)"
      ],
      "metadata": {
        "colab": {
          "base_uri": "https://localhost:8080/",
          "height": 183
        },
        "id": "CJGSffRz33cA",
        "outputId": "4fd6b7db-e9bc-420f-c9a3-394830f34da1"
      },
      "execution_count": null,
      "outputs": [
        {
          "output_type": "error",
          "ename": "NameError",
          "evalue": "ignored",
          "traceback": [
            "\u001b[0;31m---------------------------------------------------------------------------\u001b[0m",
            "\u001b[0;31mNameError\u001b[0m                                 Traceback (most recent call last)",
            "\u001b[0;32m<ipython-input-1-d9fd89906721>\u001b[0m in \u001b[0;36m<module>\u001b[0;34m\u001b[0m\n\u001b[0;32m----> 1\u001b[0;31m \u001b[0marrayfinal\u001b[0m \u001b[0;34m=\u001b[0m \u001b[0mnp\u001b[0m\u001b[0;34m.\u001b[0m\u001b[0mlinspace\u001b[0m\u001b[0;34m(\u001b[0m\u001b[0;36m1\u001b[0m\u001b[0;34m,\u001b[0m\u001b[0;36m20\u001b[0m\u001b[0;34m,\u001b[0m\u001b[0;36m50\u001b[0m\u001b[0;34m)\u001b[0m\u001b[0;34m\u001b[0m\u001b[0;34m\u001b[0m\u001b[0m\n\u001b[0m\u001b[1;32m      2\u001b[0m \u001b[0mnp\u001b[0m\u001b[0;34m.\u001b[0m\u001b[0mround\u001b[0m\u001b[0;34m(\u001b[0m\u001b[0marrayfinal\u001b[0m\u001b[0;34m,\u001b[0m\u001b[0;36m2\u001b[0m\u001b[0;34m)\u001b[0m\u001b[0;34m\u001b[0m\u001b[0;34m\u001b[0m\u001b[0m\n",
            "\u001b[0;31mNameError\u001b[0m: name 'np' is not defined"
          ]
        }
      ]
    },
    {
      "cell_type": "markdown",
      "source": [
        "# Tipagem de dados"
      ],
      "metadata": {
        "id": "wrJUUy_uEY2q"
      }
    },
    {
      "cell_type": "code",
      "source": [
        "array1 = np.array([-1,2,3,4,-5,6], dtype = str)\n",
        "array1"
      ],
      "metadata": {
        "colab": {
          "base_uri": "https://localhost:8080/"
        },
        "id": "LJf_uh0IEbKf",
        "outputId": "f9a4ef38-54a7-4455-9b6e-ef046fb42995"
      },
      "execution_count": null,
      "outputs": [
        {
          "output_type": "execute_result",
          "data": {
            "text/plain": [
              "array(['-1', '2', '3', '4', '-5', '6'], dtype='<U2')"
            ]
          },
          "metadata": {},
          "execution_count": 67
        }
      ]
    },
    {
      "cell_type": "code",
      "source": [
        "array1.dtype"
      ],
      "metadata": {
        "colab": {
          "base_uri": "https://localhost:8080/"
        },
        "id": "qPffRuiFE1KL",
        "outputId": "2f6e2797-ca60-4777-b9e9-4168052085c5"
      },
      "execution_count": null,
      "outputs": [
        {
          "output_type": "execute_result",
          "data": {
            "text/plain": [
              "dtype('<U2')"
            ]
          },
          "metadata": {},
          "execution_count": 15
        }
      ]
    },
    {
      "cell_type": "code",
      "source": [
        "array2 = np.array([-1,2,3,4,-5,6], dtype = float)\n",
        "array2"
      ],
      "metadata": {
        "colab": {
          "base_uri": "https://localhost:8080/",
          "height": 183
        },
        "id": "OUrpDYebE3pT",
        "outputId": "acfa3778-c1ba-475a-ee1d-0b80c265be1a"
      },
      "execution_count": null,
      "outputs": [
        {
          "output_type": "error",
          "ename": "NameError",
          "evalue": "ignored",
          "traceback": [
            "\u001b[0;31m---------------------------------------------------------------------------\u001b[0m",
            "\u001b[0;31mNameError\u001b[0m                                 Traceback (most recent call last)",
            "\u001b[0;32m<ipython-input-1-a66cc164d11f>\u001b[0m in \u001b[0;36m<module>\u001b[0;34m\u001b[0m\n\u001b[0;32m----> 1\u001b[0;31m \u001b[0marray2\u001b[0m \u001b[0;34m=\u001b[0m \u001b[0mnp\u001b[0m\u001b[0;34m.\u001b[0m\u001b[0marray\u001b[0m\u001b[0;34m(\u001b[0m\u001b[0;34m[\u001b[0m\u001b[0;34m-\u001b[0m\u001b[0;36m1\u001b[0m\u001b[0;34m,\u001b[0m\u001b[0;36m2\u001b[0m\u001b[0;34m,\u001b[0m\u001b[0;36m3\u001b[0m\u001b[0;34m,\u001b[0m\u001b[0;36m4\u001b[0m\u001b[0;34m,\u001b[0m\u001b[0;34m-\u001b[0m\u001b[0;36m5\u001b[0m\u001b[0;34m,\u001b[0m\u001b[0;36m6\u001b[0m\u001b[0;34m]\u001b[0m\u001b[0;34m,\u001b[0m \u001b[0mdtype\u001b[0m \u001b[0;34m=\u001b[0m \u001b[0mfloat\u001b[0m\u001b[0;34m)\u001b[0m\u001b[0;34m\u001b[0m\u001b[0;34m\u001b[0m\u001b[0m\n\u001b[0m\u001b[1;32m      2\u001b[0m \u001b[0marray2\u001b[0m\u001b[0;34m\u001b[0m\u001b[0;34m\u001b[0m\u001b[0m\n",
            "\u001b[0;31mNameError\u001b[0m: name 'np' is not defined"
          ]
        }
      ]
    },
    {
      "cell_type": "code",
      "source": [
        "array2.dtype"
      ],
      "metadata": {
        "colab": {
          "base_uri": "https://localhost:8080/"
        },
        "id": "KXP_Fx87E657",
        "outputId": "5adb8a10-d022-4031-b081-62449367604b"
      },
      "execution_count": null,
      "outputs": [
        {
          "output_type": "execute_result",
          "data": {
            "text/plain": [
              "dtype('float64')"
            ]
          },
          "metadata": {},
          "execution_count": 17
        }
      ]
    },
    {
      "cell_type": "code",
      "source": [
        "array3 = np.array([-1,2,3,4,-5,6])\n",
        "array3.dtype"
      ],
      "metadata": {
        "colab": {
          "base_uri": "https://localhost:8080/"
        },
        "id": "oZy3v2LGFMCz",
        "outputId": "a621fda8-d4a7-430d-9b44-b2cca0b9d7ff"
      },
      "execution_count": null,
      "outputs": [
        {
          "output_type": "execute_result",
          "data": {
            "text/plain": [
              "dtype('int64')"
            ]
          },
          "metadata": {},
          "execution_count": 69
        }
      ]
    },
    {
      "cell_type": "code",
      "source": [
        "array4 = np.array([-1,2,3,4,-5,6.0])\n",
        "array4.dtype"
      ],
      "metadata": {
        "colab": {
          "base_uri": "https://localhost:8080/"
        },
        "id": "o-gbJ7sDFRwN",
        "outputId": "de90ff41-bc59-4abf-e292-184858a18f10"
      },
      "execution_count": null,
      "outputs": [
        {
          "output_type": "execute_result",
          "data": {
            "text/plain": [
              "dtype('float64')"
            ]
          },
          "metadata": {},
          "execution_count": 70
        }
      ]
    },
    {
      "cell_type": "code",
      "source": [
        "array5 = np.array([-1,2,'3',4,-5,6.0])\n",
        "array5.dtype"
      ],
      "metadata": {
        "colab": {
          "base_uri": "https://localhost:8080/"
        },
        "id": "ZN_YKWoq5a9g",
        "outputId": "02b13c0d-9a17-4a2f-bc49-08ba2dc0e853"
      },
      "execution_count": null,
      "outputs": [
        {
          "output_type": "execute_result",
          "data": {
            "text/plain": [
              "dtype('<U32')"
            ]
          },
          "metadata": {},
          "execution_count": 71
        }
      ]
    },
    {
      "cell_type": "markdown",
      "source": [
        "# Cast de array"
      ],
      "metadata": {
        "id": "6Mc9VXlDF6tR"
      }
    },
    {
      "cell_type": "code",
      "source": [
        "array5 = np.array([-1,2,3,4,-5,6.6])\n",
        "array5"
      ],
      "metadata": {
        "colab": {
          "base_uri": "https://localhost:8080/"
        },
        "id": "b3Yb3sd4F_k4",
        "outputId": "b0762d65-2b58-478c-fb0d-222fb4bd378c"
      },
      "execution_count": null,
      "outputs": [
        {
          "output_type": "execute_result",
          "data": {
            "text/plain": [
              "array([-1. ,  2. ,  3. ,  4. , -5. ,  6.6])"
            ]
          },
          "metadata": {},
          "execution_count": 73
        }
      ]
    },
    {
      "cell_type": "code",
      "source": [
        "array5.astype(int)"
      ],
      "metadata": {
        "colab": {
          "base_uri": "https://localhost:8080/"
        },
        "id": "imG9PUEwGFce",
        "outputId": "8f1d32f6-a1cf-418b-8a01-5eece04bc36d"
      },
      "execution_count": null,
      "outputs": [
        {
          "output_type": "execute_result",
          "data": {
            "text/plain": [
              "array([-1,  2,  3,  4, -5,  6])"
            ]
          },
          "metadata": {},
          "execution_count": 21
        }
      ]
    },
    {
      "cell_type": "code",
      "source": [
        "array5.astype(str)"
      ],
      "metadata": {
        "colab": {
          "base_uri": "https://localhost:8080/"
        },
        "id": "YZ57eontGPNO",
        "outputId": "572c7578-9dd1-482f-858e-23872fa866b8"
      },
      "execution_count": null,
      "outputs": [
        {
          "output_type": "execute_result",
          "data": {
            "text/plain": [
              "array(['-1.0', '2.0', '3.0', '4.0', '-5.0', '6.6'], dtype='<U32')"
            ]
          },
          "metadata": {},
          "execution_count": 74
        }
      ]
    },
    {
      "cell_type": "markdown",
      "source": [
        "# Exercício 3\n",
        "### Crie um array de 5 posições que receba 5 números inteiros do usuário e converta esse array para string"
      ],
      "metadata": {
        "id": "GIL-HrtgKqU2"
      }
    },
    {
      "cell_type": "code",
      "source": [
        "#versão com lista\n",
        "lista = []\n",
        "\n",
        "for i in range(5):\n",
        "  a = int(input('Digite um número inteiro: '))\n",
        "  lista.append(a)\n",
        "\n",
        "array = np.array(lista)\n",
        "arraystring = array.astype(str)\n",
        "print(lista)\n",
        "print(array)\n",
        "print(arraystring)\n"
      ],
      "metadata": {
        "colab": {
          "base_uri": "https://localhost:8080/"
        },
        "id": "2Rvp45VD6ZjE",
        "outputId": "ffae4102-91b3-4dda-eb3c-188eaa1f849a"
      },
      "execution_count": null,
      "outputs": [
        {
          "output_type": "stream",
          "name": "stdout",
          "text": [
            "Digite um número inteiro: 1\n",
            "Digite um número inteiro: 2\n",
            "Digite um número inteiro: 3\n",
            "Digite um número inteiro: 4\n",
            "Digite um número inteiro: 5\n",
            "[1, 2, 3, 4, 5]\n",
            "[1 2 3 4 5]\n",
            "['1' '2' '3' '4' '5']\n"
          ]
        }
      ]
    },
    {
      "cell_type": "code",
      "source": [
        "#versão com vetor\n",
        "vetor = [0]*5\n",
        "for i in range(5):\n",
        "  a = int(input('Digite um número inteiro: '))\n",
        "  vetor[i] = a\n",
        "\n",
        "array = np.array(vetor)\n",
        "arraystring = array.astype(str)\n",
        "print(arraystring)"
      ],
      "metadata": {
        "colab": {
          "base_uri": "https://localhost:8080/",
          "height": 321
        },
        "id": "0RN72zRg8SZQ",
        "outputId": "adea0383-c6e3-464c-98c8-889287d5a0bd"
      },
      "execution_count": null,
      "outputs": [
        {
          "name": "stdout",
          "output_type": "stream",
          "text": [
            "Digite um número inteiro: 3\n",
            "Digite um número inteiro: 3\n",
            "Digite um número inteiro: 3\n",
            "Digite um número inteiro: 3\n",
            "Digite um número inteiro: 3\n"
          ]
        },
        {
          "output_type": "error",
          "ename": "NameError",
          "evalue": "ignored",
          "traceback": [
            "\u001b[0;31m---------------------------------------------------------------------------\u001b[0m",
            "\u001b[0;31mNameError\u001b[0m                                 Traceback (most recent call last)",
            "\u001b[0;32m<ipython-input-5-8602a4bb9e23>\u001b[0m in \u001b[0;36m<module>\u001b[0;34m\u001b[0m\n\u001b[1;32m      5\u001b[0m   \u001b[0mvetor\u001b[0m\u001b[0;34m[\u001b[0m\u001b[0mi\u001b[0m\u001b[0;34m]\u001b[0m \u001b[0;34m=\u001b[0m \u001b[0ma\u001b[0m\u001b[0;34m\u001b[0m\u001b[0;34m\u001b[0m\u001b[0m\n\u001b[1;32m      6\u001b[0m \u001b[0;34m\u001b[0m\u001b[0m\n\u001b[0;32m----> 7\u001b[0;31m \u001b[0marray\u001b[0m \u001b[0;34m=\u001b[0m \u001b[0mnp\u001b[0m\u001b[0;34m.\u001b[0m\u001b[0marray\u001b[0m\u001b[0;34m(\u001b[0m\u001b[0mvetor\u001b[0m\u001b[0;34m)\u001b[0m\u001b[0;34m\u001b[0m\u001b[0;34m\u001b[0m\u001b[0m\n\u001b[0m\u001b[1;32m      8\u001b[0m \u001b[0marraystring\u001b[0m \u001b[0;34m=\u001b[0m \u001b[0marray\u001b[0m\u001b[0;34m.\u001b[0m\u001b[0mastype\u001b[0m\u001b[0;34m(\u001b[0m\u001b[0mstr\u001b[0m\u001b[0;34m)\u001b[0m\u001b[0;34m\u001b[0m\u001b[0;34m\u001b[0m\u001b[0m\n\u001b[1;32m      9\u001b[0m \u001b[0mprint\u001b[0m\u001b[0;34m(\u001b[0m\u001b[0marraystring\u001b[0m\u001b[0;34m)\u001b[0m\u001b[0;34m\u001b[0m\u001b[0;34m\u001b[0m\u001b[0m\n",
            "\u001b[0;31mNameError\u001b[0m: name 'np' is not defined"
          ]
        }
      ]
    },
    {
      "cell_type": "markdown",
      "source": [
        "#Criando arrays com operações aritméticas em tempo de execução"
      ],
      "metadata": {
        "id": "eXNxrIyHGtqL"
      }
    },
    {
      "cell_type": "code",
      "source": [
        "array6 = np.arange(0,10)\n",
        "array6"
      ],
      "metadata": {
        "colab": {
          "base_uri": "https://localhost:8080/"
        },
        "id": "MJG0yN-QGyJd",
        "outputId": "fcd1ee3d-31cd-491d-eeab-0869847aca25"
      },
      "execution_count": null,
      "outputs": [
        {
          "output_type": "execute_result",
          "data": {
            "text/plain": [
              "array([0, 1, 2, 3, 4, 5, 6, 7, 8, 9])"
            ]
          },
          "metadata": {},
          "execution_count": 96
        }
      ]
    },
    {
      "cell_type": "code",
      "source": [
        "array7 = np.arange(0,11) * 7\n",
        "array7"
      ],
      "metadata": {
        "colab": {
          "base_uri": "https://localhost:8080/"
        },
        "id": "F_4qzJnXG4UI",
        "outputId": "83d3399d-a7cd-4239-99f8-01ecd91275d9"
      },
      "execution_count": null,
      "outputs": [
        {
          "output_type": "execute_result",
          "data": {
            "text/plain": [
              "array([ 0,  7, 14, 21, 28, 35, 42, 49, 56, 63, 70])"
            ]
          },
          "metadata": {},
          "execution_count": 112
        }
      ]
    },
    {
      "cell_type": "code",
      "source": [
        "array8 = np.arange(0,10) ** 2\n",
        "array8"
      ],
      "metadata": {
        "colab": {
          "base_uri": "https://localhost:8080/"
        },
        "id": "w9_kfgkfG-rF",
        "outputId": "22bb7e20-94f4-4910-aea1-62d851fe6431"
      },
      "execution_count": null,
      "outputs": [
        {
          "output_type": "execute_result",
          "data": {
            "text/plain": [
              "array([ 0,  1,  4,  9, 16, 25, 36, 49, 64, 81])"
            ]
          },
          "metadata": {},
          "execution_count": 101
        }
      ]
    },
    {
      "cell_type": "markdown",
      "source": [
        "#Operações aritméticas com arrays"
      ],
      "metadata": {
        "id": "iQYLR5JfIcei"
      }
    },
    {
      "cell_type": "code",
      "source": [
        "arraya = np.arange(0,10)\n",
        "arrayb = np.arange(0,10)*2\n",
        "print(arraya)\n",
        "print(arrayb)"
      ],
      "metadata": {
        "colab": {
          "base_uri": "https://localhost:8080/"
        },
        "id": "wm3MVaQfJuv7",
        "outputId": "c857fe54-d744-44f6-a2b6-9d81a144af90"
      },
      "execution_count": null,
      "outputs": [
        {
          "output_type": "stream",
          "name": "stdout",
          "text": [
            "[0 1 2 3 4 5 6 7 8 9]\n",
            "[ 0  2  4  6  8 10 12 14 16 18]\n"
          ]
        }
      ]
    },
    {
      "cell_type": "code",
      "source": [
        "#soma\n",
        "arraya + arrayb"
      ],
      "metadata": {
        "colab": {
          "base_uri": "https://localhost:8080/"
        },
        "id": "SLXwyCY8J8Lc",
        "outputId": "970efa47-a963-4bcc-fe91-9a648a8dc474"
      },
      "execution_count": null,
      "outputs": [
        {
          "output_type": "execute_result",
          "data": {
            "text/plain": [
              "array([ 1,  3,  5,  7,  9, 11, 13, 15, 17, 19])"
            ]
          },
          "metadata": {},
          "execution_count": 113
        }
      ]
    },
    {
      "cell_type": "code",
      "source": [
        "#subtração\n",
        "arrayb - arraya"
      ],
      "metadata": {
        "colab": {
          "base_uri": "https://localhost:8080/"
        },
        "id": "jdPP-qoiKDlQ",
        "outputId": "62b2ba68-ef58-4b84-8d4b-f3f18c8d470e"
      },
      "execution_count": null,
      "outputs": [
        {
          "output_type": "execute_result",
          "data": {
            "text/plain": [
              "array([0, 1, 2, 3, 4, 5, 6, 7, 8, 9])"
            ]
          },
          "metadata": {},
          "execution_count": 116
        }
      ]
    },
    {
      "cell_type": "code",
      "source": [
        "#divisão\n",
        "arraya / arrayb"
      ],
      "metadata": {
        "colab": {
          "base_uri": "https://localhost:8080/"
        },
        "id": "SLpCqooFKWh9",
        "outputId": "2e15a213-9dd5-4c3b-bb64-260a40378842"
      },
      "execution_count": null,
      "outputs": [
        {
          "output_type": "execute_result",
          "data": {
            "text/plain": [
              "array([0.        , 0.5       , 0.66666667, 0.75      , 0.8       ,\n",
              "       0.83333333, 0.85714286, 0.875     , 0.88888889, 0.9       ])"
            ]
          },
          "metadata": {},
          "execution_count": 119
        }
      ]
    },
    {
      "cell_type": "code",
      "source": [
        "#multiplicação\n",
        "arraya * arrayb"
      ],
      "metadata": {
        "colab": {
          "base_uri": "https://localhost:8080/"
        },
        "id": "ne-3WZeeKW4u",
        "outputId": "ed6e99b6-f2a3-4b76-e799-8be7d59cd079"
      },
      "execution_count": null,
      "outputs": [
        {
          "output_type": "execute_result",
          "data": {
            "text/plain": [
              "array([ 0,  2,  6, 12, 20, 30, 42, 56, 72, 90])"
            ]
          },
          "metadata": {},
          "execution_count": 120
        }
      ]
    },
    {
      "cell_type": "code",
      "source": [
        "#comparação de igualdade\n",
        "arraya == arrayb"
      ],
      "metadata": {
        "colab": {
          "base_uri": "https://localhost:8080/"
        },
        "id": "KKaXPyE3Kj_n",
        "outputId": "1a3f9645-4135-4d5b-ae08-ea54927f622a"
      },
      "execution_count": null,
      "outputs": [
        {
          "output_type": "execute_result",
          "data": {
            "text/plain": [
              "array([ True, False, False, False, False, False, False, False, False,\n",
              "       False])"
            ]
          },
          "metadata": {},
          "execution_count": 123
        }
      ]
    },
    {
      "cell_type": "code",
      "source": [
        "#comparação de maior\n",
        "arraya > arrayb"
      ],
      "metadata": {
        "colab": {
          "base_uri": "https://localhost:8080/"
        },
        "id": "Wv2iUm2nKpeP",
        "outputId": "9cf33d69-bb2f-489e-a062-3578e78fbef3"
      },
      "execution_count": null,
      "outputs": [
        {
          "output_type": "execute_result",
          "data": {
            "text/plain": [
              "array([False, False, False, False, False, False, False, False, False,\n",
              "       False])"
            ]
          },
          "metadata": {},
          "execution_count": 127
        }
      ]
    },
    {
      "cell_type": "code",
      "source": [
        "#comparação de menor\n",
        "arraya < arrayb"
      ],
      "metadata": {
        "colab": {
          "base_uri": "https://localhost:8080/"
        },
        "id": "mfDL8UbLKrZf",
        "outputId": "389de2d4-8ed9-4950-bc0e-69db949f10b2"
      },
      "execution_count": null,
      "outputs": [
        {
          "output_type": "execute_result",
          "data": {
            "text/plain": [
              "array([False,  True,  True,  True,  True,  True,  True,  True,  True,\n",
              "        True])"
            ]
          },
          "metadata": {},
          "execution_count": 129
        }
      ]
    },
    {
      "cell_type": "markdown",
      "source": [
        "#Arrays com tamanhos diferentes"
      ],
      "metadata": {
        "id": "Wtm0hc1jK-Fv"
      }
    },
    {
      "cell_type": "code",
      "source": [
        "arrayc = np.arange(1,5)\n",
        "arrayd = np.arange(4,8)\n",
        "print(arrayc)\n",
        "print(arrayd)"
      ],
      "metadata": {
        "id": "zzP-i9pqK_5h"
      },
      "execution_count": null,
      "outputs": []
    },
    {
      "cell_type": "code",
      "source": [
        "#soma\n",
        "arrayc + arrayd"
      ],
      "metadata": {
        "colab": {
          "base_uri": "https://localhost:8080/"
        },
        "id": "HEx0bvm3LLMS",
        "outputId": "9d750065-22ce-4013-ab08-b58990fb0211"
      },
      "execution_count": null,
      "outputs": [
        {
          "output_type": "execute_result",
          "data": {
            "text/plain": [
              "array([ 5,  7,  9, 11])"
            ]
          },
          "metadata": {},
          "execution_count": 133
        }
      ]
    },
    {
      "cell_type": "markdown",
      "source": [
        "# Exercício 4\n",
        "### Crie dois arrays de 5 elementos aleatórios. Crie um terceiro array com a soma dos elementos anteriores."
      ],
      "metadata": {
        "id": "v1Z7wySFP87B"
      }
    },
    {
      "cell_type": "code",
      "source": [
        "a = np.random.randint(1,5,6)\n",
        "b = np.random.randint(10,20,5)\n",
        "\n",
        "if a.shape == b.shape:\n",
        "  c = a + b\n",
        "  print(c)\n",
        "else:\n",
        "  print('Arrays de tamanho diferente')"
      ],
      "metadata": {
        "colab": {
          "base_uri": "https://localhost:8080/"
        },
        "id": "K6tQPCF_EWM9",
        "outputId": "c7c1506c-53cc-4dd7-948d-12bb2cc0e5ee"
      },
      "execution_count": null,
      "outputs": [
        {
          "output_type": "stream",
          "name": "stdout",
          "text": [
            "6\n",
            "5\n",
            "Arrays de shapes diferentes\n"
          ]
        }
      ]
    },
    {
      "cell_type": "markdown",
      "source": [
        "#Dot Product"
      ],
      "metadata": {
        "id": "51KcIbL4Lc81"
      }
    },
    {
      "cell_type": "code",
      "source": [
        "arraya = np.arange(1,4)\n",
        "arrayb = np.arange(4,7)\n",
        "print(arraya)\n",
        "print(arrayb)"
      ],
      "metadata": {
        "id": "JR0b39ULLfSD"
      },
      "execution_count": null,
      "outputs": []
    },
    {
      "cell_type": "code",
      "source": [
        "arraya * arrayb"
      ],
      "metadata": {
        "id": "gIV27d5KLtMA"
      },
      "execution_count": null,
      "outputs": []
    },
    {
      "cell_type": "code",
      "source": [
        "np.dot(arraya,arrayb)"
      ],
      "metadata": {
        "colab": {
          "base_uri": "https://localhost:8080/"
        },
        "id": "1lz3ugBiLvc3",
        "outputId": "d7e59d54-f2e6-4144-da4e-5df299591ee4"
      },
      "execution_count": null,
      "outputs": [
        {
          "output_type": "execute_result",
          "data": {
            "text/plain": [
              "32"
            ]
          },
          "metadata": {},
          "execution_count": 144
        }
      ]
    },
    {
      "cell_type": "code",
      "source": [
        "sum(arraya * arrayb)"
      ],
      "metadata": {
        "id": "1vmJZ0CKGRJE"
      },
      "execution_count": null,
      "outputs": []
    },
    {
      "cell_type": "markdown",
      "source": [
        "#Cópia de Arrays"
      ],
      "metadata": {
        "id": "SBg9UEDtL65Z"
      }
    },
    {
      "cell_type": "code",
      "source": [
        "arraya = np.arange(0,10)\n",
        "arraya"
      ],
      "metadata": {
        "colab": {
          "base_uri": "https://localhost:8080/"
        },
        "id": "DinZra2pL8Of",
        "outputId": "c875ac36-6d40-45c8-c59e-b7db6207ddbd"
      },
      "execution_count": null,
      "outputs": [
        {
          "output_type": "execute_result",
          "data": {
            "text/plain": [
              "array([0, 1, 2, 3, 4, 5, 6, 7, 8, 9])"
            ]
          },
          "metadata": {},
          "execution_count": 155
        }
      ]
    },
    {
      "cell_type": "code",
      "source": [
        "arrayb = arraya[5:]\n",
        "arrayb"
      ],
      "metadata": {
        "colab": {
          "base_uri": "https://localhost:8080/"
        },
        "id": "YSkTDrMzMI6m",
        "outputId": "8b574889-ea28-438a-a1b2-7dbce5afc467"
      },
      "execution_count": null,
      "outputs": [
        {
          "output_type": "execute_result",
          "data": {
            "text/plain": [
              "array([5, 6, 7, 8, 9])"
            ]
          },
          "metadata": {},
          "execution_count": 158
        }
      ]
    },
    {
      "cell_type": "code",
      "source": [
        "arraya[:] = 0\n",
        "arraya"
      ],
      "metadata": {
        "colab": {
          "base_uri": "https://localhost:8080/"
        },
        "id": "wbK1AQ5QMOHx",
        "outputId": "91d2ccfe-5eac-438b-ffd6-b2def9592362"
      },
      "execution_count": null,
      "outputs": [
        {
          "output_type": "execute_result",
          "data": {
            "text/plain": [
              "array([0, 0, 0, 0, 0, 0, 0, 0, 0, 0])"
            ]
          },
          "metadata": {},
          "execution_count": 159
        }
      ]
    },
    {
      "cell_type": "code",
      "source": [
        "arrayb"
      ],
      "metadata": {
        "colab": {
          "base_uri": "https://localhost:8080/"
        },
        "id": "b4vKMtGwMUFX",
        "outputId": "0fe5987b-f55f-4911-f41a-d6a527572f13"
      },
      "execution_count": null,
      "outputs": [
        {
          "output_type": "execute_result",
          "data": {
            "text/plain": [
              "array([0, 0, 0, 0, 0])"
            ]
          },
          "metadata": {},
          "execution_count": 160
        }
      ]
    },
    {
      "cell_type": "code",
      "source": [
        "arraya = np.arange(0,10)\n",
        "arraya"
      ],
      "metadata": {
        "colab": {
          "base_uri": "https://localhost:8080/"
        },
        "id": "CM59vqIjMVlK",
        "outputId": "2a7d56a9-1343-4ee7-ab46-606e6ef7e849"
      },
      "execution_count": null,
      "outputs": [
        {
          "output_type": "execute_result",
          "data": {
            "text/plain": [
              "array([0, 1, 2, 3, 4, 5, 6, 7, 8, 9])"
            ]
          },
          "metadata": {},
          "execution_count": 161
        }
      ]
    },
    {
      "cell_type": "code",
      "source": [
        "arrayb = arraya[5:].copy()\n",
        "arrayb"
      ],
      "metadata": {
        "colab": {
          "base_uri": "https://localhost:8080/"
        },
        "id": "o_E35ryuMXj5",
        "outputId": "3a8a34e2-4f2b-4a38-b09f-48a8c8801ad3"
      },
      "execution_count": null,
      "outputs": [
        {
          "output_type": "execute_result",
          "data": {
            "text/plain": [
              "array([5, 6, 7, 8, 9])"
            ]
          },
          "metadata": {},
          "execution_count": 162
        }
      ]
    },
    {
      "cell_type": "code",
      "source": [
        "arraya[:] = 0\n",
        "arraya"
      ],
      "metadata": {
        "colab": {
          "base_uri": "https://localhost:8080/"
        },
        "id": "wwVlj6llMePT",
        "outputId": "7f559ce6-2e0a-49be-e0f0-7631f6cf551b"
      },
      "execution_count": null,
      "outputs": [
        {
          "output_type": "execute_result",
          "data": {
            "text/plain": [
              "array([0, 0, 0, 0, 0, 0, 0, 0, 0, 0])"
            ]
          },
          "metadata": {},
          "execution_count": 163
        }
      ]
    },
    {
      "cell_type": "code",
      "source": [
        "arrayb"
      ],
      "metadata": {
        "colab": {
          "base_uri": "https://localhost:8080/"
        },
        "id": "yDzGMdbPMe8W",
        "outputId": "d4f07fa2-ac9a-494a-8091-980ab1340c52"
      },
      "execution_count": null,
      "outputs": [
        {
          "output_type": "execute_result",
          "data": {
            "text/plain": [
              "array([5, 6, 7, 8, 9])"
            ]
          },
          "metadata": {},
          "execution_count": 164
        }
      ]
    },
    {
      "cell_type": "markdown",
      "source": [
        "#Índices em array"
      ],
      "metadata": {
        "id": "1GUJIomQO8XX"
      }
    },
    {
      "cell_type": "code",
      "source": [
        "lista = [1,2,3,4,5,6,7,8,9,10]\n",
        "\n",
        "vetor = np.array(lista)\n",
        "\n",
        "print(type(vetor))"
      ],
      "metadata": {
        "colab": {
          "base_uri": "https://localhost:8080/"
        },
        "id": "fg5YxYLqoYwR",
        "outputId": "3aa5066a-bd09-4867-d534-e44132f90d11"
      },
      "execution_count": null,
      "outputs": [
        {
          "output_type": "stream",
          "name": "stdout",
          "text": [
            "<class 'numpy.ndarray'>\n"
          ]
        }
      ]
    },
    {
      "cell_type": "code",
      "source": [
        "#Tamanho \n",
        "\n",
        "print(vetor.shape)"
      ],
      "metadata": {
        "colab": {
          "base_uri": "https://localhost:8080/"
        },
        "id": "re8ZMIp1oucW",
        "outputId": "7d9933d2-6693-4659-c390-ce22cc1c5cfa"
      },
      "execution_count": null,
      "outputs": [
        {
          "output_type": "stream",
          "name": "stdout",
          "text": [
            "(10,)\n"
          ]
        }
      ]
    },
    {
      "cell_type": "code",
      "source": [
        "#Primeiro elemento\n",
        "vetor[0]"
      ],
      "metadata": {
        "colab": {
          "base_uri": "https://localhost:8080/"
        },
        "id": "kdfD9G5Io0m1",
        "outputId": "d64f47c6-f3f7-403e-f672-d1b7c47803a8"
      },
      "execution_count": null,
      "outputs": [
        {
          "output_type": "execute_result",
          "data": {
            "text/plain": [
              "1"
            ]
          },
          "metadata": {},
          "execution_count": 171
        }
      ]
    },
    {
      "cell_type": "code",
      "source": [
        "#Terceiro elemento \n",
        "vetor[2]"
      ],
      "metadata": {
        "colab": {
          "base_uri": "https://localhost:8080/"
        },
        "id": "SusyL9Sco84C",
        "outputId": "a4610967-d396-4acb-901a-1a07e5090b92"
      },
      "execution_count": null,
      "outputs": [
        {
          "output_type": "execute_result",
          "data": {
            "text/plain": [
              "3"
            ]
          },
          "metadata": {},
          "execution_count": 172
        }
      ]
    },
    {
      "cell_type": "code",
      "source": [
        "#Primeiros 3 elementos\n",
        "vetor[0:3]"
      ],
      "metadata": {
        "colab": {
          "base_uri": "https://localhost:8080/"
        },
        "id": "241Zu23IpBim",
        "outputId": "0e5f2f51-abbd-49fc-a831-3788f471edbf"
      },
      "execution_count": null,
      "outputs": [
        {
          "output_type": "execute_result",
          "data": {
            "text/plain": [
              "array([1, 2, 3])"
            ]
          },
          "metadata": {},
          "execution_count": 173
        }
      ]
    },
    {
      "cell_type": "code",
      "source": [
        "#Todos os valores após o quinto elemento\n",
        "vetor[5:]"
      ],
      "metadata": {
        "colab": {
          "base_uri": "https://localhost:8080/"
        },
        "id": "hRc6LB3wpHmu",
        "outputId": "2df78de7-81de-4271-b961-719cb7cdc698"
      },
      "execution_count": null,
      "outputs": [
        {
          "output_type": "execute_result",
          "data": {
            "text/plain": [
              "array([ 6,  7,  8,  9, 10])"
            ]
          },
          "metadata": {},
          "execution_count": 176
        }
      ]
    },
    {
      "cell_type": "code",
      "source": [
        "#Último elemento\n",
        "vetor[-1]"
      ],
      "metadata": {
        "colab": {
          "base_uri": "https://localhost:8080/"
        },
        "id": "b-gvAUbQpXad",
        "outputId": "cdc58ed6-84c6-4ce0-a7e3-344969dbb520"
      },
      "execution_count": null,
      "outputs": [
        {
          "output_type": "execute_result",
          "data": {
            "text/plain": [
              "10"
            ]
          },
          "metadata": {},
          "execution_count": 181
        }
      ]
    },
    {
      "cell_type": "code",
      "source": [
        "#Os últimos três valores\n",
        "vetor[-3:]"
      ],
      "metadata": {
        "colab": {
          "base_uri": "https://localhost:8080/"
        },
        "id": "UiGkhGEgpQMn",
        "outputId": "40645cce-38e7-49d5-fc6f-fa4fe994899a"
      },
      "execution_count": null,
      "outputs": [
        {
          "output_type": "execute_result",
          "data": {
            "text/plain": [
              "array([ 8,  9, 10])"
            ]
          },
          "metadata": {},
          "execution_count": 182
        }
      ]
    },
    {
      "cell_type": "code",
      "source": [
        "#Pegar somente as posicoes pares\n",
        "vetor[0:10:2]"
      ],
      "metadata": {
        "colab": {
          "base_uri": "https://localhost:8080/"
        },
        "id": "smrb7TrJpoCS",
        "outputId": "c4b55679-cf4c-4c1d-f707-7369cb613f54"
      },
      "execution_count": null,
      "outputs": [
        {
          "output_type": "execute_result",
          "data": {
            "text/plain": [
              "array([1, 3, 5, 7, 9])"
            ]
          },
          "metadata": {},
          "execution_count": 183
        }
      ]
    },
    {
      "cell_type": "code",
      "source": [
        "#Pegar somente as posicoes ímpares\n",
        "vetor[1:10:2]"
      ],
      "metadata": {
        "colab": {
          "base_uri": "https://localhost:8080/"
        },
        "id": "LMvHZugmp02-",
        "outputId": "ba55c050-a2d4-4407-f969-b266aca6d8e3"
      },
      "execution_count": null,
      "outputs": [
        {
          "output_type": "execute_result",
          "data": {
            "text/plain": [
              "array([ 2,  4,  6,  8, 10])"
            ]
          },
          "metadata": {},
          "execution_count": 184
        }
      ]
    },
    {
      "cell_type": "code",
      "source": [
        "#Concatenando 2 arrays\n",
        "a = np.array([1,2,3,4,5])\n",
        "b = np.array([6,7,8,9,10])\n",
        "\n",
        "np.concatenate([a,b])"
      ],
      "metadata": {
        "colab": {
          "base_uri": "https://localhost:8080/"
        },
        "id": "DV542lc2qTrM",
        "outputId": "2ef7effc-461a-4226-8ef1-22919c1a6bd2"
      },
      "execution_count": null,
      "outputs": [
        {
          "output_type": "execute_result",
          "data": {
            "text/plain": [
              "array([ 1,  2,  3,  4,  5,  6,  7,  8,  9, 10])"
            ]
          },
          "metadata": {},
          "execution_count": 185
        }
      ]
    },
    {
      "cell_type": "markdown",
      "source": [
        "#Extras"
      ],
      "metadata": {
        "id": "e8TFuA75Bzbu"
      }
    },
    {
      "cell_type": "code",
      "source": [
        "arrayarange = np.arange(5)\n",
        "arrayarange"
      ],
      "metadata": {
        "colab": {
          "base_uri": "https://localhost:8080/"
        },
        "id": "mt_odm0nJF1z",
        "outputId": "ae67fa2f-9ea1-49ed-fd21-4e7d9b3ea235"
      },
      "execution_count": null,
      "outputs": [
        {
          "output_type": "execute_result",
          "data": {
            "text/plain": [
              "array([0, 1, 2, 3, 4])"
            ]
          },
          "metadata": {},
          "execution_count": 189
        }
      ]
    },
    {
      "cell_type": "code",
      "source": [
        "#soma elementos\n",
        "arrayarange = np.arange(5)\n",
        "arrayarange.sum()"
      ],
      "metadata": {
        "colab": {
          "base_uri": "https://localhost:8080/"
        },
        "id": "bNY_1VWJB0gd",
        "outputId": "f1ffdaa5-0072-421c-90ae-1499edc2d615"
      },
      "execution_count": null,
      "outputs": [
        {
          "output_type": "execute_result",
          "data": {
            "text/plain": [
              "10"
            ]
          },
          "metadata": {},
          "execution_count": 190
        }
      ]
    },
    {
      "cell_type": "code",
      "source": [
        "#menor elementos\n",
        "arrayarange = np.arange(5)\n",
        "arrayarange.min()"
      ],
      "metadata": {
        "colab": {
          "base_uri": "https://localhost:8080/"
        },
        "id": "mNObnB_OB4bA",
        "outputId": "df1d0995-7a2c-49b4-eae3-2cfa329c2972"
      },
      "execution_count": null,
      "outputs": [
        {
          "output_type": "execute_result",
          "data": {
            "text/plain": [
              "0"
            ]
          },
          "metadata": {},
          "execution_count": 187
        }
      ]
    },
    {
      "cell_type": "code",
      "source": [
        "#maior elemento\n",
        "arrayarange = np.arange(5)\n",
        "arrayarange.max()"
      ],
      "metadata": {
        "colab": {
          "base_uri": "https://localhost:8080/"
        },
        "id": "t2Ndo_LJB40K",
        "outputId": "3c3478e0-506c-4cc5-c139-d82912d2f805"
      },
      "execution_count": null,
      "outputs": [
        {
          "output_type": "execute_result",
          "data": {
            "text/plain": [
              "4"
            ]
          },
          "metadata": {},
          "execution_count": 188
        }
      ]
    },
    {
      "cell_type": "markdown",
      "source": [
        "#Exercícios de fixação\n",
        "\n",
        "\n",
        "1 - Faça um algoritmo que solicite ao usuário números e os armazene em um vetor de 5 posições. Crie uma função que recebe o vetor preenchido e substitua todas as ocorrência de valores positivos por 1 e todos os valores negativos por 0.\n",
        "\n",
        "\n",
        "2 - Faça um algoritmo que solicita 2 arrays diferentes de 3 posições que irão representar as 3 notas de 2 alunos da instituição. Após isso, faça a média do somatório de todos os valores dos dois arrays.\n",
        "\n",
        "\n",
        "Os exercícios devem ser colocado em um repositória Git público e a URL do projeto deve ser enviada para: pablo.bizzi@gmail.com e compartilhar o repositório no Github. Meu usuário é pablobizzi"
      ],
      "metadata": {
        "id": "FoBJ8zGh31Fp"
      }
    },
    {
      "cell_type": "markdown",
      "source": [
        "1 - Faça um algoritmo que solicite ao usuário números e os armazene em um vetor de 5 posições. Crie uma função que recebe o vetor preenchido e substitua todas as ocorrência de valores positivos por 1 e todos os valores negativos por 0."
      ],
      "metadata": {
        "id": "3fXTjesCLGEe"
      }
    },
    {
      "cell_type": "code",
      "source": [
        "def vetor():\n",
        "  import numpy as np \n",
        "  vetor = [0]*5\n",
        "  for n in range(5):\n",
        "    f = int(input('Digite um número: '))\n",
        "    vetor[n] = f\n",
        "  array = np.array(vetor)\n",
        "  print(array)\n",
        "  for n in range(5):\n",
        "    if array[n] < 0:\n",
        "      array[n] = 0\n",
        "    else:\n",
        "      array[n] =1\n",
        "  print(array)\n",
        "vetor()"
      ],
      "metadata": {
        "id": "ZO3B7sh-LCxQ"
      },
      "execution_count": null,
      "outputs": []
    },
    {
      "cell_type": "markdown",
      "source": [
        "2 - Faça um algoritmo que solicita 2 arrays diferentes de 3 posições que irão representar as 3 notas de 2 alunos da instituição. Após isso, faça a média do somatório de todos os valores dos dois arrays."
      ],
      "metadata": {
        "id": "550kl1-TLLd-"
      }
    },
    {
      "cell_type": "code",
      "source": [
        "import numpy as np \n",
        "aluno1 = [0]*3\n",
        "aluno2 = [0]*3\n",
        "for n in range(3):\n",
        "  n1 = int(input(f'1° Aluno: Informe a {n+1}° nota: '))\n",
        "  aluno1[n] = n1\n",
        "aluno1 = np.array(aluno1)\n",
        "for n in range(3):\n",
        "  n2 = int(input(f'2° Aluno: Informe a {n+1}° nota: '))\n",
        "  aluno2[n] = n2\n",
        "aluno2 = np.array(aluno2)\n",
        "\n",
        "print(aluno1)\n",
        "print(aluno2)\n",
        "print(f'A media geral é {round(sum(aluno1+aluno2)/(aluno2.size+aluno2.size)),2}')"
      ],
      "metadata": {
        "colab": {
          "base_uri": "https://localhost:8080/"
        },
        "id": "OuDZSGSZLC_l",
        "outputId": "b72e83a9-0782-4eb4-9dfd-22577b6870ae"
      },
      "execution_count": null,
      "outputs": [
        {
          "output_type": "stream",
          "name": "stdout",
          "text": [
            "1° Aluno: Informe a 1° nota: 7\n",
            "1° Aluno: Informe a 2° nota: 8\n",
            "1° Aluno: Informe a 3° nota: 7\n",
            "2° Aluno: Informe a 1° nota: 9\n",
            "2° Aluno: Informe a 2° nota: 7\n",
            "2° Aluno: Informe a 3° nota: 5\n",
            "[7 8 7]\n",
            "[9 7 5]\n",
            "A media geral é (7, 2)\n"
          ]
        }
      ]
    }
  ]
}