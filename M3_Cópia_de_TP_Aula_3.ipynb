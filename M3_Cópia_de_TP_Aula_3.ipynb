{
  "nbformat": 4,
  "nbformat_minor": 0,
  "metadata": {
    "colab": {
      "provenance": []
    },
    "kernelspec": {
      "name": "python3",
      "display_name": "Python 3"
    },
    "language_info": {
      "name": "python"
    }
  },
  "cells": [
    {
      "cell_type": "code",
      "execution_count": null,
      "metadata": {
        "id": "cObF6x9q_tdO"
      },
      "outputs": [],
      "source": [
        "import numpy as np"
      ]
    },
    {
      "cell_type": "code",
      "source": [
        "###Criando uma estrutura unidimensional\n",
        "arraynp = np.array(['João', 'Maria', 'José'])\n",
        "print(arraynp)"
      ],
      "metadata": {
        "colab": {
          "base_uri": "https://localhost:8080/"
        },
        "id": "8EfuNeCGkHLR",
        "outputId": "6d5653ed-e6ad-4ef1-a2e7-057f508e27ff"
      },
      "execution_count": null,
      "outputs": [
        {
          "output_type": "stream",
          "name": "stdout",
          "text": [
            "['João' 'Maria' 'José']\n"
          ]
        }
      ]
    },
    {
      "cell_type": "code",
      "source": [
        "arraynp3 = np.array([['altura','largura'],[175,180],[150,140],[180,150]])\n",
        "arraynp3"
      ],
      "metadata": {
        "colab": {
          "base_uri": "https://localhost:8080/"
        },
        "id": "a2d8T0zDkMUJ",
        "outputId": "b5f52a2f-a7a3-4ca1-d252-b3d70b01bf87"
      },
      "execution_count": null,
      "outputs": [
        {
          "output_type": "execute_result",
          "data": {
            "text/plain": [
              "array([['altura', 'largura'],\n",
              "       ['175', '180'],\n",
              "       ['150', '140'],\n",
              "       ['180', '150']], dtype='<U21')"
            ]
          },
          "metadata": {},
          "execution_count": 4
        }
      ]
    },
    {
      "cell_type": "code",
      "source": [
        "#Criar array com numeros aleatórios\n",
        "#Sintaxe:   numpy.random.randint (menor numero, maior numero - opcional, tamanho - opcional, dtype - opcional)\n",
        "arrayrandom = np.random.randint(0,100,5)\n",
        "arrayrandom "
      ],
      "metadata": {
        "colab": {
          "base_uri": "https://localhost:8080/"
        },
        "id": "w3H9iu0iBfzf",
        "outputId": "d97c0dcd-6364-4014-ed96-1c25ba14bc5a"
      },
      "execution_count": null,
      "outputs": [
        {
          "output_type": "execute_result",
          "data": {
            "text/plain": [
              "array([90, 14, 29, 21,  8])"
            ]
          },
          "metadata": {},
          "execution_count": 6
        }
      ]
    },
    {
      "cell_type": "code",
      "source": [
        "#Criar matriz com numeros aleatórios\n",
        "#Sintaxe:   numpy.random.randint (menor numero, maior numero - opcional, tamanho - opcional, dtype - opcional)\n",
        "arrayrandom = np.random.randint(0,1000,(10,10))\n",
        "arrayrandom "
      ],
      "metadata": {
        "colab": {
          "base_uri": "https://localhost:8080/"
        },
        "id": "WY9zX7KeBTfo",
        "outputId": "d84cf646-e7db-4416-e472-69c019e68a55"
      },
      "execution_count": null,
      "outputs": [
        {
          "output_type": "execute_result",
          "data": {
            "text/plain": [
              "array([[326,   9, 883, 728, 991, 562, 866, 310, 978, 765],\n",
              "       [458, 991, 360, 933, 199, 765,  31, 411, 104, 282],\n",
              "       [426, 219, 943,   7, 323, 727, 999, 828, 741, 109],\n",
              "       [667, 306, 176, 942, 644, 290, 223, 500, 594, 799],\n",
              "       [116, 677, 702, 143, 176, 997, 692, 435, 239, 529],\n",
              "       [553,  83, 552, 490, 800, 171,  64, 636, 529, 361],\n",
              "       [646, 516, 524,  85, 894, 136, 848, 759, 256,  15],\n",
              "       [426, 562, 282, 125, 206, 449, 923, 526, 373, 299],\n",
              "       [ 61, 337, 480, 928, 783,  48, 387, 541, 660,  56],\n",
              "       [640, 126, 981, 617, 535, 607, 524, 311, 608, 239]])"
            ]
          },
          "metadata": {},
          "execution_count": 13
        }
      ]
    },
    {
      "cell_type": "markdown",
      "source": [
        "#Estrutura de matrizes"
      ],
      "metadata": {
        "id": "CbABWoRQ_52X"
      }
    },
    {
      "cell_type": "code",
      "source": [
        "#criando uma matriz de zeros\n",
        "matriz1 = np.zeros((5,5),int)\n",
        "matriz1"
      ],
      "metadata": {
        "colab": {
          "base_uri": "https://localhost:8080/"
        },
        "id": "gZ8d9v6O_2OZ",
        "outputId": "bb961827-2351-428c-84a5-ebcc3f77ea04"
      },
      "execution_count": null,
      "outputs": [
        {
          "output_type": "execute_result",
          "data": {
            "text/plain": [
              "array([[0, 0, 0, 0, 0],\n",
              "       [0, 0, 0, 0, 0],\n",
              "       [0, 0, 0, 0, 0],\n",
              "       [0, 0, 0, 0, 0],\n",
              "       [0, 0, 0, 0, 0]])"
            ]
          },
          "metadata": {},
          "execution_count": 21
        }
      ]
    },
    {
      "cell_type": "code",
      "source": [
        "#criando uma matriz de números um\n",
        "matriz2 = np.ones((4,4),dtype=int)\n",
        "matriz2"
      ],
      "metadata": {
        "colab": {
          "base_uri": "https://localhost:8080/"
        },
        "id": "PYS31-ZKAbUf",
        "outputId": "57c12d25-1db7-4ee4-8b13-368a2dc5b01d"
      },
      "execution_count": null,
      "outputs": [
        {
          "output_type": "execute_result",
          "data": {
            "text/plain": [
              "array([[1, 1, 1, 1],\n",
              "       [1, 1, 1, 1],\n",
              "       [1, 1, 1, 1],\n",
              "       [1, 1, 1, 1]])"
            ]
          },
          "metadata": {},
          "execution_count": 28
        }
      ]
    },
    {
      "cell_type": "code",
      "source": [
        "#criando uma matriz com a diagonal de números um\n",
        "matriz3 = np.eye(5)\n",
        "matriz3"
      ],
      "metadata": {
        "colab": {
          "base_uri": "https://localhost:8080/"
        },
        "id": "G777NcupAluQ",
        "outputId": "85552a24-84ba-4897-86d8-ced016aa4826"
      },
      "execution_count": null,
      "outputs": [
        {
          "output_type": "execute_result",
          "data": {
            "text/plain": [
              "array([[1., 0., 0., 0., 0.],\n",
              "       [0., 1., 0., 0., 0.],\n",
              "       [0., 0., 1., 0., 0.],\n",
              "       [0., 0., 0., 1., 0.],\n",
              "       [0., 0., 0., 0., 1.]])"
            ]
          },
          "metadata": {},
          "execution_count": 32
        }
      ]
    },
    {
      "cell_type": "code",
      "source": [
        "#criando uma matriz a partir da sua diagonal\n",
        "matriz4 = np.diag([1,2,3,4,5])\n",
        "matriz4"
      ],
      "metadata": {
        "colab": {
          "base_uri": "https://localhost:8080/"
        },
        "id": "51mfA9KRA3je",
        "outputId": "bb7bfda7-a3b1-4771-cd91-292d33b7ba59"
      },
      "execution_count": null,
      "outputs": [
        {
          "output_type": "execute_result",
          "data": {
            "text/plain": [
              "array([[1, 0, 0, 0, 0],\n",
              "       [0, 2, 0, 0, 0],\n",
              "       [0, 0, 3, 0, 0],\n",
              "       [0, 0, 0, 4, 0],\n",
              "       [0, 0, 0, 0, 5]])"
            ]
          },
          "metadata": {},
          "execution_count": 33
        }
      ]
    },
    {
      "cell_type": "code",
      "source": [
        "#Numpy tile\n",
        "\n",
        "matriz5 = np.tile(np.array([[1,2],[3,4]]),2)\n",
        "matriz5"
      ],
      "metadata": {
        "colab": {
          "base_uri": "https://localhost:8080/"
        },
        "id": "Y9hA_U9WBMPB",
        "outputId": "be0b149b-b84f-4d7f-9a59-da33295e9bd7"
      },
      "execution_count": null,
      "outputs": [
        {
          "output_type": "execute_result",
          "data": {
            "text/plain": [
              "array([[1, 2, 1, 2],\n",
              "       [3, 4, 3, 4]])"
            ]
          },
          "metadata": {},
          "execution_count": 44
        }
      ]
    },
    {
      "cell_type": "code",
      "source": [
        "#primeiro parâmetro é repetições verticais e o segundo são repetições horizontais\n",
        "matriz6 = np.tile(np.array([[1,2],[3,4]]),(2,2))\n",
        "matriz6"
      ],
      "metadata": {
        "colab": {
          "base_uri": "https://localhost:8080/"
        },
        "id": "IHdOjbNWCBzC",
        "outputId": "a01cd781-1bc0-491e-e0f4-fd780ab09d8d"
      },
      "execution_count": null,
      "outputs": [
        {
          "output_type": "execute_result",
          "data": {
            "text/plain": [
              "array([[1, 2, 1, 2],\n",
              "       [3, 4, 3, 4],\n",
              "       [1, 2, 1, 2],\n",
              "       [3, 4, 3, 4]])"
            ]
          },
          "metadata": {},
          "execution_count": 48
        }
      ]
    },
    {
      "cell_type": "markdown",
      "source": [
        "#Mudar formato de matriz\n",
        "\n",
        "Muitas vezes queremos mudar o formato de array, por exemplo, de 4 elementos pra uma matriz 2x2, ou situações similares. Para isso, utilizamos a função `reshape`.\n"
      ],
      "metadata": {
        "id": "-EvM0zkBmc2X"
      }
    },
    {
      "cell_type": "code",
      "source": [
        "before = np.array([[1,3,5,7],[2,4,6,8]])\n",
        "print(before)\n",
        "print(before.shape)"
      ],
      "metadata": {
        "colab": {
          "base_uri": "https://localhost:8080/"
        },
        "id": "K9l1vgsJmhhN",
        "outputId": "b5f53813-6b0d-4606-e112-eda890df92f3"
      },
      "execution_count": null,
      "outputs": [
        {
          "output_type": "stream",
          "name": "stdout",
          "text": [
            "[[1 3 5 7]\n",
            " [2 4 6 8]]\n",
            "(2, 4)\n"
          ]
        }
      ]
    },
    {
      "cell_type": "code",
      "source": [
        "after = before.reshape((1,8)) # tem que possuir a mesma quantidade de elementos!\n",
        "after"
      ],
      "metadata": {
        "colab": {
          "base_uri": "https://localhost:8080/"
        },
        "id": "WhQB1R9qmmbb",
        "outputId": "cc90f7c1-14d2-41e8-92b0-9ef6509a2401"
      },
      "execution_count": null,
      "outputs": [
        {
          "output_type": "execute_result",
          "data": {
            "text/plain": [
              "array([[1, 3, 5, 7, 2, 4, 6, 8]])"
            ]
          },
          "metadata": {},
          "execution_count": 57
        }
      ]
    },
    {
      "cell_type": "markdown",
      "source": [
        "#Juntar arrays\n",
        "\n",
        "Também podemos juntar e empilhar arrays. Vamos ver alguns exemplos de empilhamento vertical (`np.vstack`) e horizontal (`np.hstack`)."
      ],
      "metadata": {
        "id": "7Tgbmd2dm_L4"
      }
    },
    {
      "cell_type": "code",
      "source": [
        "#junção vertical deve possuir a mesma dimensão\n",
        "v1 = np.array([1,2,3,4])\n",
        "v2 = np.array([5,6,7,8])\n",
        "v3 = np.array([9,10,11,12])\n",
        "\n",
        "np.vstack([v1, v2, v3])"
      ],
      "metadata": {
        "colab": {
          "base_uri": "https://localhost:8080/"
        },
        "id": "Ank5agcZnE6d",
        "outputId": "834330ea-a971-427a-e14f-b2f0124468d2"
      },
      "execution_count": null,
      "outputs": [
        {
          "output_type": "execute_result",
          "data": {
            "text/plain": [
              "array([[ 1,  2,  3,  4],\n",
              "       [ 5,  6,  7,  8],\n",
              "       [ 9, 10, 11, 12]])"
            ]
          },
          "metadata": {},
          "execution_count": 74
        }
      ]
    },
    {
      "cell_type": "code",
      "source": [
        "h1 = np.array([[1, 1, 1, 1], [2, 2, 2, 2]])\n",
        "h2 = np.array([[0,0], [3,3]])\n",
        "h3 = np.array([[4], [5]])\n",
        "\n",
        "np.hstack((h1, h2, h3))"
      ],
      "metadata": {
        "colab": {
          "base_uri": "https://localhost:8080/"
        },
        "id": "YO3aac3xnIO5",
        "outputId": "c5b08121-0f97-4a38-9ca5-54e8e6d7bc4a"
      },
      "execution_count": null,
      "outputs": [
        {
          "output_type": "execute_result",
          "data": {
            "text/plain": [
              "array([[1, 1, 1, 1, 0, 0, 4],\n",
              "       [2, 2, 2, 2, 3, 3, 5]])"
            ]
          },
          "metadata": {},
          "execution_count": 72
        }
      ]
    },
    {
      "cell_type": "code",
      "source": [
        "d3 = [[[0]*3]*3]*3\n",
        "matriz3d = np.array(d3)\n",
        "matriz3d"
      ],
      "metadata": {
        "colab": {
          "base_uri": "https://localhost:8080/"
        },
        "id": "_vmgsy9SM3TC",
        "outputId": "566932b3-5018-49e8-bbe6-f1a6d7ebb4e3"
      },
      "execution_count": null,
      "outputs": [
        {
          "output_type": "execute_result",
          "data": {
            "text/plain": [
              "array([[[0, 0, 0],\n",
              "        [0, 0, 0],\n",
              "        [0, 0, 0]],\n",
              "\n",
              "       [[0, 0, 0],\n",
              "        [0, 0, 0],\n",
              "        [0, 0, 0]],\n",
              "\n",
              "       [[0, 0, 0],\n",
              "        [0, 0, 0],\n",
              "        [0, 0, 0]]])"
            ]
          },
          "metadata": {},
          "execution_count": 90
        }
      ]
    },
    {
      "cell_type": "code",
      "source": [
        "d4 = [[[[0]*3]*3]*3]*3\n",
        "matriz4d = np.array(d4)\n",
        "matriz4d"
      ],
      "metadata": {
        "colab": {
          "base_uri": "https://localhost:8080/"
        },
        "id": "L-U2ZxDqORVo",
        "outputId": "5b2b2abc-9c43-4a15-8268-9523584bd093"
      },
      "execution_count": null,
      "outputs": [
        {
          "output_type": "execute_result",
          "data": {
            "text/plain": [
              "array([[[[0, 0, 0],\n",
              "         [0, 0, 0],\n",
              "         [0, 0, 0]],\n",
              "\n",
              "        [[0, 0, 0],\n",
              "         [0, 0, 0],\n",
              "         [0, 0, 0]],\n",
              "\n",
              "        [[0, 0, 0],\n",
              "         [0, 0, 0],\n",
              "         [0, 0, 0]]],\n",
              "\n",
              "\n",
              "       [[[0, 0, 0],\n",
              "         [0, 0, 0],\n",
              "         [0, 0, 0]],\n",
              "\n",
              "        [[0, 0, 0],\n",
              "         [0, 0, 0],\n",
              "         [0, 0, 0]],\n",
              "\n",
              "        [[0, 0, 0],\n",
              "         [0, 0, 0],\n",
              "         [0, 0, 0]]],\n",
              "\n",
              "\n",
              "       [[[0, 0, 0],\n",
              "         [0, 0, 0],\n",
              "         [0, 0, 0]],\n",
              "\n",
              "        [[0, 0, 0],\n",
              "         [0, 0, 0],\n",
              "         [0, 0, 0]],\n",
              "\n",
              "        [[0, 0, 0],\n",
              "         [0, 0, 0],\n",
              "         [0, 0, 0]]]])"
            ]
          },
          "metadata": {},
          "execution_count": 91
        }
      ]
    },
    {
      "cell_type": "code",
      "source": [
        "# função para checar dimensões dos elementos\n",
        "def verifica_array(arr):\n",
        "  print(f'{arr} dimensão {arr.ndim}, tamanho {arr.size} e shape {arr.shape}\\n')\n",
        "\n",
        "verifica_array(arraynp)\n",
        "verifica_array(matriz4)\n",
        "verifica_array(matriz5)\n",
        "verifica_array(matriz6)\n",
        "verifica_array(matriz3d)\n",
        "verifica_array(matriz4d)"
      ],
      "metadata": {
        "colab": {
          "base_uri": "https://localhost:8080/"
        },
        "id": "23OGWQPsGCdT",
        "outputId": "07d19fd9-0157-4753-f785-faebecde8606"
      },
      "execution_count": null,
      "outputs": [
        {
          "output_type": "stream",
          "name": "stdout",
          "text": [
            "['João' 'Maria' 'José'] dimensão 1, tamanho 3 e shape (3,)\n",
            "\n",
            "[[1 0 0 0 0]\n",
            " [0 2 0 0 0]\n",
            " [0 0 3 0 0]\n",
            " [0 0 0 4 0]\n",
            " [0 0 0 0 5]] dimensão 2, tamanho 25 e shape (5, 5)\n",
            "\n",
            "[[1 2 1 2]\n",
            " [3 4 3 4]] dimensão 2, tamanho 8 e shape (2, 4)\n",
            "\n",
            "[[1 2 1 2]\n",
            " [3 4 3 4]\n",
            " [1 2 1 2]\n",
            " [3 4 3 4]] dimensão 2, tamanho 16 e shape (4, 4)\n",
            "\n",
            "[[[0 0 0]\n",
            "  [0 0 0]\n",
            "  [0 0 0]]\n",
            "\n",
            " [[0 0 0]\n",
            "  [0 0 0]\n",
            "  [0 0 0]]\n",
            "\n",
            " [[0 0 0]\n",
            "  [0 0 0]\n",
            "  [0 0 0]]] dimensão 3, tamanho 27 e shape (3, 3, 3)\n",
            "\n",
            "[[[[0 0 0]\n",
            "   [0 0 0]\n",
            "   [0 0 0]]\n",
            "\n",
            "  [[0 0 0]\n",
            "   [0 0 0]\n",
            "   [0 0 0]]\n",
            "\n",
            "  [[0 0 0]\n",
            "   [0 0 0]\n",
            "   [0 0 0]]]\n",
            "\n",
            "\n",
            " [[[0 0 0]\n",
            "   [0 0 0]\n",
            "   [0 0 0]]\n",
            "\n",
            "  [[0 0 0]\n",
            "   [0 0 0]\n",
            "   [0 0 0]]\n",
            "\n",
            "  [[0 0 0]\n",
            "   [0 0 0]\n",
            "   [0 0 0]]]\n",
            "\n",
            "\n",
            " [[[0 0 0]\n",
            "   [0 0 0]\n",
            "   [0 0 0]]\n",
            "\n",
            "  [[0 0 0]\n",
            "   [0 0 0]\n",
            "   [0 0 0]]\n",
            "\n",
            "  [[0 0 0]\n",
            "   [0 0 0]\n",
            "   [0 0 0]]]] dimensão 4, tamanho 81 e shape (3, 3, 3, 3)\n",
            "\n"
          ]
        }
      ]
    },
    {
      "cell_type": "code",
      "source": [
        "matriz4d.reshape((1,81))"
      ],
      "metadata": {
        "colab": {
          "base_uri": "https://localhost:8080/"
        },
        "id": "aOWcIlTqOmf2",
        "outputId": "628d0a6f-fb9c-4fba-b340-5d7b8b58c7b1"
      },
      "execution_count": null,
      "outputs": [
        {
          "output_type": "execute_result",
          "data": {
            "text/plain": [
              "array([[0, 0, 0, 0, 0, 0, 0, 0, 0, 0, 0, 0, 0, 0, 0, 0, 0, 0, 0, 0, 0, 0,\n",
              "        0, 0, 0, 0, 0, 0, 0, 0, 0, 0, 0, 0, 0, 0, 0, 0, 0, 0, 0, 0, 0, 0,\n",
              "        0, 0, 0, 0, 0, 0, 0, 0, 0, 0, 0, 0, 0, 0, 0, 0, 0, 0, 0, 0, 0, 0,\n",
              "        0, 0, 0, 0, 0, 0, 0, 0, 0, 0, 0, 0, 0, 0, 0]])"
            ]
          },
          "metadata": {},
          "execution_count": 112
        }
      ]
    },
    {
      "cell_type": "markdown",
      "source": [
        "#Operações"
      ],
      "metadata": {
        "id": "8-q8V99sH88O"
      }
    },
    {
      "cell_type": "code",
      "source": [
        "arraya = np.array([[1, 1, 1, 1], [1, 1, 1, 1]])\n",
        "arrayb = np.array([[2, 2, 2, 2], [2, 2, 2, 2]])\n",
        "print(arraya)\n",
        "print(arrayb)"
      ],
      "metadata": {
        "colab": {
          "base_uri": "https://localhost:8080/"
        },
        "id": "4fTodbOKIAku",
        "outputId": "6ce76c8c-9a22-4e18-d973-142c9bdce2e5"
      },
      "execution_count": null,
      "outputs": [
        {
          "output_type": "stream",
          "name": "stdout",
          "text": [
            "[[1 1 1 1]\n",
            " [1 1 1 1]]\n",
            "[[2 2 2 2]\n",
            " [2 2 2 2]]\n"
          ]
        }
      ]
    },
    {
      "cell_type": "code",
      "source": [
        "#soma\n",
        "arraya + arrayb"
      ],
      "metadata": {
        "colab": {
          "base_uri": "https://localhost:8080/"
        },
        "id": "YVd1vGE_IgLX",
        "outputId": "101477b6-af9d-4e85-9007-c94806469696"
      },
      "execution_count": null,
      "outputs": [
        {
          "output_type": "execute_result",
          "data": {
            "text/plain": [
              "array([[3, 3, 3, 3],\n",
              "       [3, 3, 3, 3]])"
            ]
          },
          "metadata": {},
          "execution_count": 115
        }
      ]
    },
    {
      "cell_type": "code",
      "source": [
        "#subtração\n",
        "arraya - arrayb"
      ],
      "metadata": {
        "colab": {
          "base_uri": "https://localhost:8080/"
        },
        "id": "foo_O8voIjWn",
        "outputId": "2180de55-17ec-42b9-c150-f66c19d12579"
      },
      "execution_count": null,
      "outputs": [
        {
          "output_type": "execute_result",
          "data": {
            "text/plain": [
              "array([[-1, -1, -1, -1],\n",
              "       [-1, -1, -1, -1]])"
            ]
          },
          "metadata": {},
          "execution_count": 116
        }
      ]
    },
    {
      "cell_type": "code",
      "source": [
        "#multiplicação\n",
        "arraya * arrayb"
      ],
      "metadata": {
        "colab": {
          "base_uri": "https://localhost:8080/"
        },
        "id": "tyFFTfeRIoHY",
        "outputId": "f1878f74-9903-4b21-ea26-e1f701160d63"
      },
      "execution_count": null,
      "outputs": [
        {
          "output_type": "execute_result",
          "data": {
            "text/plain": [
              "array([[2, 2, 2, 2],\n",
              "       [2, 2, 2, 2]])"
            ]
          },
          "metadata": {},
          "execution_count": 117
        }
      ]
    },
    {
      "cell_type": "code",
      "source": [
        "#divisão\n",
        "arraya / arrayb"
      ],
      "metadata": {
        "colab": {
          "base_uri": "https://localhost:8080/"
        },
        "id": "foWqXhI5Iq9C",
        "outputId": "450369a6-64e5-4be6-d439-8c1e64a9a436"
      },
      "execution_count": null,
      "outputs": [
        {
          "output_type": "execute_result",
          "data": {
            "text/plain": [
              "array([[0.5, 0.5, 0.5, 0.5],\n",
              "       [0.5, 0.5, 0.5, 0.5]])"
            ]
          },
          "metadata": {},
          "execution_count": 118
        }
      ]
    },
    {
      "cell_type": "code",
      "source": [
        "#comparação de igualdade\n",
        "arraya == arrayb"
      ],
      "metadata": {
        "colab": {
          "base_uri": "https://localhost:8080/"
        },
        "id": "X_nFfV5zIwED",
        "outputId": "ba592d76-6b94-485d-9040-f0db4cf099b3"
      },
      "execution_count": null,
      "outputs": [
        {
          "output_type": "execute_result",
          "data": {
            "text/plain": [
              "array([[False, False, False, False],\n",
              "       [False, False, False, False]])"
            ]
          },
          "metadata": {},
          "execution_count": 119
        }
      ]
    },
    {
      "cell_type": "code",
      "source": [
        "#comparação de maior\n",
        "arraya > arrayb"
      ],
      "metadata": {
        "colab": {
          "base_uri": "https://localhost:8080/"
        },
        "id": "oU04mye9I0ww",
        "outputId": "87a62e50-9b7a-4e4d-d04b-7c6f85cd6b1c"
      },
      "execution_count": null,
      "outputs": [
        {
          "output_type": "execute_result",
          "data": {
            "text/plain": [
              "array([[False, False, False, False],\n",
              "       [False, False, False, False]])"
            ]
          },
          "metadata": {},
          "execution_count": 121
        }
      ]
    },
    {
      "cell_type": "code",
      "source": [
        "#comparação de menor\n",
        "arraya < arrayb"
      ],
      "metadata": {
        "colab": {
          "base_uri": "https://localhost:8080/"
        },
        "id": "4abEL-5NI0-k",
        "outputId": "a4596ed0-5ae9-4b33-834b-d9c51ee7fdd7"
      },
      "execution_count": null,
      "outputs": [
        {
          "output_type": "execute_result",
          "data": {
            "text/plain": [
              "array([[ True,  True,  True,  True],\n",
              "       [ True,  True,  True,  True]])"
            ]
          },
          "metadata": {},
          "execution_count": 122
        }
      ]
    },
    {
      "cell_type": "markdown",
      "source": [
        "#Produto escalar\n",
        "![image.png](data:image/png;base64,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)"
      ],
      "metadata": {
        "id": "uwfmtOBwJrmJ"
      }
    },
    {
      "cell_type": "code",
      "source": [
        "#produto escalar\n",
        "np.dot(arraya, arrayb)"
      ],
      "metadata": {
        "colab": {
          "base_uri": "https://localhost:8080/",
          "height": 219
        },
        "id": "mZkYtI3OJANk",
        "outputId": "ca93444b-d83a-489b-9e06-a4047cf0526b"
      },
      "execution_count": null,
      "outputs": [
        {
          "output_type": "error",
          "ename": "ValueError",
          "evalue": "ignored",
          "traceback": [
            "\u001b[0;31m---------------------------------------------------------------------------\u001b[0m",
            "\u001b[0;31mValueError\u001b[0m                                Traceback (most recent call last)",
            "\u001b[0;32m<ipython-input-123-17f48c77f2ef>\u001b[0m in \u001b[0;36m<module>\u001b[0;34m\u001b[0m\n\u001b[1;32m      1\u001b[0m \u001b[0;31m#produto escalar\u001b[0m\u001b[0;34m\u001b[0m\u001b[0;34m\u001b[0m\u001b[0;34m\u001b[0m\u001b[0m\n\u001b[0;32m----> 2\u001b[0;31m \u001b[0mnp\u001b[0m\u001b[0;34m.\u001b[0m\u001b[0mdot\u001b[0m\u001b[0;34m(\u001b[0m\u001b[0marraya\u001b[0m\u001b[0;34m,\u001b[0m \u001b[0marrayb\u001b[0m\u001b[0;34m)\u001b[0m\u001b[0;34m\u001b[0m\u001b[0;34m\u001b[0m\u001b[0m\n\u001b[0m",
            "\u001b[0;32m<__array_function__ internals>\u001b[0m in \u001b[0;36mdot\u001b[0;34m(*args, **kwargs)\u001b[0m\n",
            "\u001b[0;31mValueError\u001b[0m: shapes (2,4) and (2,4) not aligned: 4 (dim 1) != 2 (dim 0)"
          ]
        }
      ]
    },
    {
      "cell_type": "code",
      "source": [
        "arrayc = np.array([[1, 1, 1, 1], [1, 1, 1, 1]])\n",
        "arrayd = np.array([[2, 2], [2, 2], [2, 2], [2, 2]])\n",
        "print(arrayc,arrayc.shape)\n",
        "print(arrayd,arrayd.shape)\n",
        "\n"
      ],
      "metadata": {
        "colab": {
          "base_uri": "https://localhost:8080/"
        },
        "id": "-jaVUllJKCcw",
        "outputId": "d472dc1b-eb8b-445d-e2bb-32afb6543ad7"
      },
      "execution_count": null,
      "outputs": [
        {
          "output_type": "stream",
          "name": "stdout",
          "text": [
            "[[1 1 1 1]\n",
            " [1 1 1 1]] (2, 4)\n",
            "[[2 2]\n",
            " [2 2]\n",
            " [2 2]\n",
            " [2 2]] (4, 2)\n"
          ]
        }
      ]
    },
    {
      "cell_type": "code",
      "source": [
        "np.dot(arrayc,arrayd)"
      ],
      "metadata": {
        "colab": {
          "base_uri": "https://localhost:8080/"
        },
        "id": "BYeWYL5dKHwU",
        "outputId": "4818a824-6158-4c03-b6f6-ae201fbb2abb"
      },
      "execution_count": null,
      "outputs": [
        {
          "output_type": "execute_result",
          "data": {
            "text/plain": [
              "array([[8, 8],\n",
              "       [8, 8]])"
            ]
          },
          "metadata": {},
          "execution_count": 125
        }
      ]
    },
    {
      "cell_type": "markdown",
      "source": [
        "#Índices em matrizes"
      ],
      "metadata": {
        "id": "8HXhFF-gKs-3"
      }
    },
    {
      "cell_type": "code",
      "source": [
        "cabecalho = ['nome','sexo','idade']\n",
        "pessoa1 = ['Pablo','Masculino','29']\n",
        "pessoa2 = ['Lucas','Masculino', '22']\n",
        "\n",
        "matriz = np.array([cabecalho, pessoa1, pessoa2])\n",
        "matriz"
      ],
      "metadata": {
        "colab": {
          "base_uri": "https://localhost:8080/"
        },
        "id": "54xUbOYAKzhR",
        "outputId": "6486a284-88dc-43d6-d633-63f1916c91ca"
      },
      "execution_count": null,
      "outputs": [
        {
          "output_type": "execute_result",
          "data": {
            "text/plain": [
              "array([['nome', 'sexo', 'idade'],\n",
              "       ['Pablo', 'Masculino', '29'],\n",
              "       ['Lucas', 'Masculino', '22']], dtype='<U9')"
            ]
          },
          "metadata": {},
          "execution_count": 127
        }
      ]
    },
    {
      "cell_type": "code",
      "source": [
        "#acessando a primeira linha\n",
        "matriz[0]"
      ],
      "metadata": {
        "colab": {
          "base_uri": "https://localhost:8080/"
        },
        "id": "pUt9ghoCLNO-",
        "outputId": "4640f7c6-cb64-4156-b789-a59decc817a9"
      },
      "execution_count": null,
      "outputs": [
        {
          "output_type": "execute_result",
          "data": {
            "text/plain": [
              "array(['nome', 'sexo', 'idade'], dtype='<U9')"
            ]
          },
          "metadata": {},
          "execution_count": 132
        }
      ]
    },
    {
      "cell_type": "code",
      "source": [
        "#acessando o primeiro elemento da primeira linha\n",
        "matriz[0][0]"
      ],
      "metadata": {
        "colab": {
          "base_uri": "https://localhost:8080/",
          "height": 35
        },
        "id": "8qw67DBaLUEt",
        "outputId": "afee74d5-ecc9-4dfe-d1ee-42f931a83c40"
      },
      "execution_count": null,
      "outputs": [
        {
          "output_type": "execute_result",
          "data": {
            "text/plain": [
              "'22'"
            ],
            "application/vnd.google.colaboratory.intrinsic+json": {
              "type": "string"
            }
          },
          "metadata": {},
          "execution_count": 139
        }
      ]
    },
    {
      "cell_type": "code",
      "source": [
        "#acessar todos os registros (sem o cabeçalho)\n",
        "matriz[1:]\n"
      ],
      "metadata": {
        "colab": {
          "base_uri": "https://localhost:8080/"
        },
        "id": "5EtExU31MLbE",
        "outputId": "3dc06fc4-3980-48eb-814d-9df4659ff494"
      },
      "execution_count": null,
      "outputs": [
        {
          "output_type": "execute_result",
          "data": {
            "text/plain": [
              "array([['Pablo', 'Masculino', '29'],\n",
              "       ['Lucas', 'Masculino', '22']], dtype='<U9')"
            ]
          },
          "metadata": {},
          "execution_count": 149
        }
      ]
    },
    {
      "cell_type": "code",
      "source": [
        "#acessar os registros da primeira coluna\n",
        "matriz[1:,0]\n"
      ],
      "metadata": {
        "colab": {
          "base_uri": "https://localhost:8080/"
        },
        "id": "a4kI4_5FVzuJ",
        "outputId": "61ccd298-0256-48cf-ce01-023ddfb4c814"
      },
      "execution_count": null,
      "outputs": [
        {
          "output_type": "execute_result",
          "data": {
            "text/plain": [
              "array(['Pablo', 'Lucas'], dtype='<U9')"
            ]
          },
          "metadata": {},
          "execution_count": 153
        }
      ]
    },
    {
      "cell_type": "code",
      "source": [
        "#acessar os registros desconsiderando a primeira linha e a primeira coluna\n",
        "matriz[1:,1:]\n"
      ],
      "metadata": {
        "colab": {
          "base_uri": "https://localhost:8080/"
        },
        "id": "HMUR_8NrSltu",
        "outputId": "a046e783-6b72-4d95-f984-88db6125c5b3"
      },
      "execution_count": null,
      "outputs": [
        {
          "output_type": "execute_result",
          "data": {
            "text/plain": [
              "array([['Masculino', '29'],\n",
              "       ['Masculino', '22']], dtype='<U9')"
            ]
          },
          "metadata": {},
          "execution_count": 154
        }
      ]
    },
    {
      "cell_type": "markdown",
      "source": [
        "# EXERCÍCIO 1\n",
        "\n",
        "COMO CRIAR UMA MATRIZ NUMPY VAZIA E UMA COMPLETA?"
      ],
      "metadata": {
        "id": "vhkioml1fcmy"
      }
    },
    {
      "cell_type": "code",
      "source": [
        "vazia = np.zeros((3,3), int)\n",
        "vazia"
      ],
      "metadata": {
        "id": "NDzyUx21gL7j",
        "colab": {
          "base_uri": "https://localhost:8080/"
        },
        "outputId": "87f2aa20-6042-4170-9e20-b25e6b741b2a"
      },
      "execution_count": null,
      "outputs": [
        {
          "output_type": "execute_result",
          "data": {
            "text/plain": [
              "array([[0, 0, 0],\n",
              "       [0, 0, 0],\n",
              "       [0, 0, 0]])"
            ]
          },
          "metadata": {},
          "execution_count": 156
        }
      ]
    },
    {
      "cell_type": "code",
      "source": [
        "cheia = np.full([5,5],7,int)\n",
        "cheia"
      ],
      "metadata": {
        "colab": {
          "base_uri": "https://localhost:8080/"
        },
        "id": "j32rZpDKS8if",
        "outputId": "bdc27a5e-b592-4a12-cffa-ceaf50fc412a"
      },
      "execution_count": null,
      "outputs": [
        {
          "output_type": "execute_result",
          "data": {
            "text/plain": [
              "array([[7, 7, 7, 7, 7],\n",
              "       [7, 7, 7, 7, 7],\n",
              "       [7, 7, 7, 7, 7],\n",
              "       [7, 7, 7, 7, 7],\n",
              "       [7, 7, 7, 7, 7]])"
            ]
          },
          "metadata": {},
          "execution_count": 167
        }
      ]
    },
    {
      "cell_type": "markdown",
      "source": [
        "# EXERCÍCIO 2\n",
        "\n",
        "COMO CRIAR UMA MATRIZ NUMPY PREENCHIDA DE 1'S COMO STRING"
      ],
      "metadata": {
        "id": "_ksq6sC1g5IC"
      }
    },
    {
      "cell_type": "code",
      "source": [
        "np.ones([3,3],str)"
      ],
      "metadata": {
        "id": "HmkSUPzgg_el",
        "colab": {
          "base_uri": "https://localhost:8080/"
        },
        "outputId": "402d21d9-927d-472a-84ea-b8575e733996"
      },
      "execution_count": null,
      "outputs": [
        {
          "output_type": "execute_result",
          "data": {
            "text/plain": [
              "array([['1', '1', '1'],\n",
              "       ['1', '1', '1'],\n",
              "       ['1', '1', '1']], dtype='<U1')"
            ]
          },
          "metadata": {},
          "execution_count": 165
        }
      ]
    },
    {
      "cell_type": "markdown",
      "source": [
        "#EXERCÍCIO 3\n",
        "\n",
        "COMO CRIAR UM ARRAY 5X5 USANDO ARRANGE"
      ],
      "metadata": {
        "id": "bL1ygZTgiV5I"
      }
    },
    {
      "cell_type": "code",
      "source": [
        "array1d = np.arange(25)\n",
        "array1d"
      ],
      "metadata": {
        "colab": {
          "base_uri": "https://localhost:8080/"
        },
        "id": "pvVkj8wuifD_",
        "outputId": "48035933-d5d6-4536-91a9-decf9439fd6d"
      },
      "execution_count": null,
      "outputs": [
        {
          "output_type": "execute_result",
          "data": {
            "text/plain": [
              "array([ 0,  1,  2,  3,  4,  5,  6,  7,  8,  9, 10, 11, 12, 13, 14, 15, 16,\n",
              "       17, 18, 19, 20, 21, 22, 23, 24])"
            ]
          },
          "metadata": {},
          "execution_count": 172
        }
      ]
    },
    {
      "cell_type": "code",
      "source": [
        "array2d = np.arange(25).reshape(5,5)\n",
        "array2d"
      ],
      "metadata": {
        "colab": {
          "base_uri": "https://localhost:8080/"
        },
        "id": "C7WevfshUQL8",
        "outputId": "6e06f0c7-9709-47bb-e224-664f1fa02904"
      },
      "execution_count": null,
      "outputs": [
        {
          "output_type": "execute_result",
          "data": {
            "text/plain": [
              "array([[ 0,  1,  2,  3,  4],\n",
              "       [ 5,  6,  7,  8,  9],\n",
              "       [10, 11, 12, 13, 14],\n",
              "       [15, 16, 17, 18, 19],\n",
              "       [20, 21, 22, 23, 24]])"
            ]
          },
          "metadata": {},
          "execution_count": 175
        }
      ]
    },
    {
      "cell_type": "markdown",
      "source": [
        "#EXERCÍCIO 4\n",
        "\n",
        "COMO VERIFICAR O VALOR MÍNIMO DE UMA MATRIZ?"
      ],
      "metadata": {
        "id": "4xO36KRbkbcH"
      }
    },
    {
      "cell_type": "code",
      "source": [
        "array2d.min()"
      ],
      "metadata": {
        "id": "V03a6oY-lK3K",
        "colab": {
          "base_uri": "https://localhost:8080/"
        },
        "outputId": "17b767a6-7543-4d79-9ddc-b66efbc0d780"
      },
      "execution_count": null,
      "outputs": [
        {
          "output_type": "execute_result",
          "data": {
            "text/plain": [
              "0"
            ]
          },
          "metadata": {},
          "execution_count": 177
        }
      ]
    },
    {
      "cell_type": "markdown",
      "source": [
        "#EXERCÍCIO 5\n",
        "\n",
        "COMO VERIFICAR O VALOR MÁXIMO DE UMA MATRIZ?"
      ],
      "metadata": {
        "id": "i3MyMUFCkhNS"
      }
    },
    {
      "cell_type": "code",
      "source": [
        "array2d.max()"
      ],
      "metadata": {
        "id": "y0AdXjZ5lLQh",
        "colab": {
          "base_uri": "https://localhost:8080/"
        },
        "outputId": "e86db9e4-ccb8-47e3-df68-5baead370ea0"
      },
      "execution_count": null,
      "outputs": [
        {
          "output_type": "execute_result",
          "data": {
            "text/plain": [
              "24"
            ]
          },
          "metadata": {},
          "execution_count": 178
        }
      ]
    },
    {
      "cell_type": "markdown",
      "source": [
        "#EXERCÍCIO 6\n",
        "\n",
        "COMO VERIFICAR O VALOR MÉDIO DE UMA MATRIZ?"
      ],
      "metadata": {
        "id": "Mah7gX1Oko8h"
      }
    },
    {
      "cell_type": "code",
      "source": [
        "array2d.mean()"
      ],
      "metadata": {
        "id": "jcyUs1VykjEo",
        "colab": {
          "base_uri": "https://localhost:8080/"
        },
        "outputId": "81f121ac-116d-4e3e-f099-8178d0841437"
      },
      "execution_count": null,
      "outputs": [
        {
          "output_type": "execute_result",
          "data": {
            "text/plain": [
              "12.0"
            ]
          },
          "metadata": {},
          "execution_count": 179
        }
      ]
    },
    {
      "cell_type": "code",
      "source": [
        "array2d.sum()/array2d.size"
      ],
      "metadata": {
        "colab": {
          "base_uri": "https://localhost:8080/"
        },
        "id": "ZPXGj5ryWs-1",
        "outputId": "dc801715-b9de-4e4c-9f24-5f066ee2c5a5"
      },
      "execution_count": null,
      "outputs": [
        {
          "output_type": "execute_result",
          "data": {
            "text/plain": [
              "12.0"
            ]
          },
          "metadata": {},
          "execution_count": 180
        }
      ]
    },
    {
      "cell_type": "markdown",
      "source": [
        "#EXERCÍCIO 7 \n",
        "\n",
        "COMO VERIFICAR SE UM NÚMERO ESTÁ PRESENTE NA MATRIZ"
      ],
      "metadata": {
        "id": "gz4LOioXoSo5"
      }
    },
    {
      "cell_type": "code",
      "source": [
        "arr = np.array([[1, 2, 3, 4, 5], \n",
        "                [10, -3, 30, 4, 5], \n",
        "                [3, 2, 5, -4, 5], \n",
        "                [9, 7, 3, 6, 5]])\n",
        "\n",
        "busca = 3\n",
        "\n",
        "resultado = np.where(arr == busca)\n",
        "print(resultado[0]) #linha que possuem o numero três\n",
        "print(resultado[1]) #colunas que possuem o numero três"
      ],
      "metadata": {
        "id": "jcIJXAd3oYu4",
        "colab": {
          "base_uri": "https://localhost:8080/"
        },
        "outputId": "92ad7233-1072-40a8-cca6-7391e8c73324"
      },
      "execution_count": null,
      "outputs": [
        {
          "output_type": "stream",
          "name": "stdout",
          "text": [
            "[0 2 3]\n",
            "[2 0 2]\n"
          ]
        }
      ]
    },
    {
      "cell_type": "markdown",
      "source": [
        "#ATIVIDADE 1\n",
        "\n",
        "GERE UMA MATRIZ COM VALORES ALEATÓRIOS INTEIROS E FAÇA UMA FUNÇÃO QUE RETORNE A SOMA DOS ELEMENTOS DA DIAGONAL PRINCIPAL DE UMA MATRIZ 5X5"
      ],
      "metadata": {
        "id": "IV1LQK5tleam"
      }
    },
    {
      "cell_type": "code",
      "source": [],
      "metadata": {
        "id": "f6WSPN_-loHP"
      },
      "execution_count": null,
      "outputs": []
    },
    {
      "cell_type": "markdown",
      "source": [
        "#ATIVIDADE 2\n",
        "\n",
        "CRIE DUAS MATRIZES 4x4 COM VALORES ALEATÓRIOS INTEIROS. APÓS ISSO, CALCULE A SOMA, SUBTRAÇÃO, MULTIPLICAÇÃO, DIVISÃO E VERIFIQUE A IGUALDADE ENTRE AS MATRIZES"
      ],
      "metadata": {
        "id": "GGmV-xGSmfct"
      }
    },
    {
      "cell_type": "code",
      "source": [],
      "metadata": {
        "id": "a3UgcBBAneGd"
      },
      "execution_count": null,
      "outputs": []
    }
  ]
}