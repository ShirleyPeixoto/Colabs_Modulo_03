{
  "cells": [
    {
      "cell_type": "code",
      "execution_count": null,
      "metadata": {
        "colab": {
          "base_uri": "https://localhost:8080/"
        },
        "id": "PC5E0qj5BCJt",
        "outputId": "bfe37788-2a29-49c9-88f0-559414d98bc3"
      },
      "outputs": [
        {
          "name": "stdout",
          "output_type": "stream",
          "text": [
            "Defaulting to user installation because normal site-packages is not writeable\n",
            "\u001b[33mWARNING: Ignoring invalid distribution -ensorflow-gpu (/home/lucas/.local/lib/python3.8/site-packages)\u001b[0m\n",
            "\u001b[33mWARNING: Ignoring invalid distribution -ensorflow-gpu (/home/lucas/.local/lib/python3.8/site-packages)\u001b[0m\n",
            "Requirement already satisfied: pandas in /home/lucas/.local/lib/python3.8/site-packages (1.4.1)\n",
            "Requirement already satisfied: numpy>=1.18.5 in /home/lucas/.local/lib/python3.8/site-packages (from pandas) (1.22.3)\n",
            "Requirement already satisfied: pytz>=2020.1 in /home/lucas/.local/lib/python3.8/site-packages (from pandas) (2021.3)\n",
            "Requirement already satisfied: python-dateutil>=2.8.1 in /home/lucas/.local/lib/python3.8/site-packages (from pandas) (2.8.2)\n",
            "Requirement already satisfied: six>=1.5 in /home/lucas/.local/lib/python3.8/site-packages (from python-dateutil>=2.8.1->pandas) (1.16.0)\n",
            "\u001b[33mWARNING: Ignoring invalid distribution -ensorflow-gpu (/home/lucas/.local/lib/python3.8/site-packages)\u001b[0m\n",
            "\u001b[33mWARNING: Error parsing requirements for tensorflow-gpu: [Errno 2] No such file or directory: '/home/lucas/.local/lib/python3.8/site-packages/tensorflow_gpu-2.3.0.dist-info/METADATA'\u001b[0m\n",
            "\u001b[33mWARNING: Ignoring invalid distribution -ensorflow-gpu (/home/lucas/.local/lib/python3.8/site-packages)\u001b[0m\n",
            "\u001b[33mWARNING: Ignoring invalid distribution -ensorflow-gpu (/home/lucas/.local/lib/python3.8/site-packages)\u001b[0m\n",
            "\u001b[33mWARNING: Ignoring invalid distribution -ensorflow-gpu (/home/lucas/.local/lib/python3.8/site-packages)\u001b[0m\n",
            "\u001b[33mWARNING: You are using pip version 21.3.1; however, version 22.2.2 is available.\n",
            "You should consider upgrading via the '/bin/python3 -m pip install --upgrade pip' command.\u001b[0m\n"
          ]
        }
      ],
      "source": [
        "# Instalação da biblioteca se necessário\n",
        "!pip install pandas"
      ]
    },
    {
      "cell_type": "markdown",
      "metadata": {
        "id": "4vwYaEbEZ4nY"
      },
      "source": [
        "# Aula 4 - Pandas"
      ]
    },
    {
      "cell_type": "markdown",
      "metadata": {
        "id": "VrGqrCrkaCuu"
      },
      "source": [
        "Prof. Tiago Dias\n",
        "\n",
        "[Linkedin](https://www.linkedin.com/in/diasctiago/) | [Github](https://github.com/diasctiago) | [Blog](https://www.dadosaocubo.com/)"
      ]
    },
    {
      "cell_type": "markdown",
      "metadata": {
        "id": "94he9PoubPgw"
      },
      "source": [
        "## Conhecendo o pandas"
      ]
    },
    {
      "cell_type": "markdown",
      "metadata": {
        "id": "bDc-ZpjtNdbi"
      },
      "source": [
        "[Documentação pandas](https://pandas.pydata.org/docs/user_guide/index.html)"
      ]
    },
    {
      "cell_type": "markdown",
      "metadata": {
        "id": "J11TWEzIPqV4"
      },
      "source": [
        "### O que é um DataFrame?"
      ]
    },
    {
      "cell_type": "markdown",
      "metadata": {
        "id": "rY6YFWxbNth8"
      },
      "source": [
        "DataFrame, é a representação de uma tabela na biblioteca pandas.\n",
        "\n",
        "| ![DataFrame](https://pandas.pydata.org/docs/_images/01_table_dataframe.svg) |\n",
        "|:--:| \n",
        "| _DataFrame_ (Fonte da imagem: [Pandas](https://pandas.pydata.org/)) |"
      ]
    },
    {
      "cell_type": "markdown",
      "metadata": {
        "id": "aIzrq3q8Pt8V"
      },
      "source": [
        "### O que é uma Series?"
      ]
    },
    {
      "cell_type": "markdown",
      "metadata": {
        "id": "S5DqS-qCNxjF"
      },
      "source": [
        "Uma Series, é a representação de cada coluna de uma tabela individual.\n",
        "\n",
        "| ![Series](https://pandas.pydata.org/docs/_images/01_table_series.svg) |\n",
        "|:--:| \n",
        "| _Series_ (Fonte da imagem: [Pandas](https://pandas.pydata.org/)) |"
      ]
    },
    {
      "cell_type": "markdown",
      "metadata": {
        "id": "VVj-kUanPvrO"
      },
      "source": [
        "### Que tipos de dados posso trabalhar no pandas?"
      ]
    },
    {
      "cell_type": "markdown",
      "metadata": {
        "id": "gAL52HuLPlew"
      },
      "source": [
        "É possível ler e gravar dados e diversas fontes com o pandas.\n",
        "\n",
        "| ![Tipos de Dados](https://pandas.pydata.org/docs/_images/02_io_readwrite.svg) |\n",
        "|:--:| \n",
        "| _Tipos de Dados_ (Fonte da imagem: [Pandas](https://pandas.pydata.org/)) |"
      ]
    },
    {
      "cell_type": "markdown",
      "metadata": {
        "id": "8RXo5si_QIpb"
      },
      "source": [
        "### Prática com o pandas"
      ]
    },
    {
      "cell_type": "code",
      "execution_count": null,
      "metadata": {
        "id": "M6ZJ1_PrbUl_"
      },
      "outputs": [],
      "source": [
        "# importanto a biblioteca\n",
        "import pandas as pd"
      ]
    },
    {
      "cell_type": "code",
      "execution_count": null,
      "metadata": {
        "id": "R9nbPRltMSL7"
      },
      "outputs": [],
      "source": [
        "# lendo um arquivo csv a partir de um link da internet\n",
        "\n",
        "df = pd.read_csv('http://dados.agricultura.gov.br/dataset/420c0514-92da-4888-be85-290a0785e8a9/resource/65cce855-685e-4cfa-b3a4-2d192fc83b4e/download/rfflorestasplantadasibge2014-2016.csv', \n",
        "                  encoding = 'Windows 1252', #geralmente não eh necessário\n",
        "                  delimiter=';')\n",
        "\n"
      ]
    },
    {
      "cell_type": "code",
      "execution_count": null,
      "metadata": {
        "id": "8m9OQOH-MSH7"
      },
      "outputs": [],
      "source": [
        "# lendo um arquivo csv local\n",
        "df2 = pd.read_csv('florestas.csv',\n",
        "                   encoding = 'Windows 1252',\n",
        "                   delimiter = ';')"
      ]
    },
    {
      "cell_type": "code",
      "execution_count": null,
      "metadata": {
        "id": "-jZbrX18MSEm"
      },
      "outputs": [],
      "source": [
        "# verificando as primeiras linhas do arquivo\n",
        "df.head()"
      ]
    },
    {
      "cell_type": "code",
      "execution_count": null,
      "metadata": {
        "id": "Eof2FR54MSA7"
      },
      "outputs": [],
      "source": [
        "# verificando as última linhas do arquivo\n",
        "df.tail()"
      ]
    },
    {
      "cell_type": "code",
      "execution_count": null,
      "metadata": {
        "id": "3UMuSxz4TCVD"
      },
      "outputs": [],
      "source": [
        "# verificando os nomes das colunas carregadas\n",
        "df.columns"
      ]
    },
    {
      "cell_type": "code",
      "execution_count": null,
      "metadata": {
        "id": "Z8nI5plu6kkQ",
        "colab": {
          "base_uri": "https://localhost:8080/"
        },
        "outputId": "8493dc9a-7994-4ca5-bf55-c08e5299b49e"
      },
      "outputs": [
        {
          "output_type": "execute_result",
          "data": {
            "text/plain": [
              "RangeIndex(start=0, stop=31014, step=1)"
            ]
          },
          "metadata": {},
          "execution_count": 4
        }
      ],
      "source": [
        "# verificando o indice\n",
        "df.index"
      ]
    },
    {
      "cell_type": "code",
      "execution_count": null,
      "metadata": {
        "id": "TrPz3fMWTNvc"
      },
      "outputs": [],
      "source": [
        "# verificado as informações dos dados\n",
        "df.info()"
      ]
    },
    {
      "cell_type": "code",
      "execution_count": null,
      "metadata": {
        "id": "EnwPUKjeCbKj"
      },
      "outputs": [],
      "source": [
        "31014 - 29658"
      ]
    },
    {
      "cell_type": "code",
      "execution_count": null,
      "metadata": {
        "id": "WoRGZfXETWAs"
      },
      "outputs": [],
      "source": [
        "# quantidadede linhas e colunas\n",
        "df.shape"
      ]
    },
    {
      "cell_type": "markdown",
      "metadata": {
        "id": "_BIVSW9VTioe"
      },
      "source": [
        "Como selecionar colunas específicas do DataFrame.\n",
        "\n",
        "| ![Colunas dos Dados](https://pandas.pydata.org/docs/_images/03_subset_columns.svg) |\n",
        "|:--:| \n",
        "| _Colunas dos Dados_ (Fonte da imagem: [Pandas](https://pandas.pydata.org/)) |"
      ]
    },
    {
      "cell_type": "code",
      "execution_count": null,
      "metadata": {
        "id": "j64uNOSoTbQE"
      },
      "outputs": [],
      "source": [
        "df[['País', 'Região']]"
      ]
    },
    {
      "cell_type": "markdown",
      "metadata": {
        "id": "qlJvaWCKT3WK"
      },
      "source": [
        "Como selecionar linhas específicas do DataFrame.\n",
        "\n",
        "| ![Linhas dos Dados](https://pandas.pydata.org/docs/_images/03_subset_rows.svg) |\n",
        "|:--:| \n",
        "| _Linhas dos Dados_ (Fonte da imagem: [Pandas](https://pandas.pydata.org/)) |"
      ]
    },
    {
      "cell_type": "code",
      "execution_count": null,
      "metadata": {
        "id": "v927pFANHOjI"
      },
      "outputs": [],
      "source": [
        "#selecionar areas maior que 200000 hectares\n",
        "\n",
        "values = df['Área (ha)']>200000"
      ]
    },
    {
      "cell_type": "code",
      "execution_count": null,
      "metadata": {
        "id": "V6q06VGtTbMD"
      },
      "outputs": [],
      "source": [
        "df[ df['Área (ha)'] > 200000 ]"
      ]
    },
    {
      "cell_type": "code",
      "execution_count": null,
      "metadata": {
        "id": "QIOCmiemHaiw"
      },
      "outputs": [],
      "source": [
        "# verificando um indice específico\n",
        "df.loc[2700:2706] #loc infere se vc se refere a indice ou coluna\n",
        "df.iloc[2700:2706] #iloc eh usado especificamente para indices"
      ]
    },
    {
      "cell_type": "code",
      "execution_count": null,
      "metadata": {
        "id": "MeSTHObqHf0R"
      },
      "outputs": [],
      "source": [
        "# verificando colunas nulas\n",
        "df.isnull().sum()"
      ]
    },
    {
      "cell_type": "code",
      "execution_count": null,
      "metadata": {
        "id": "Cle8F3ujCbKq"
      },
      "outputs": [],
      "source": [
        "df.dtypes['Área (ha)']"
      ]
    },
    {
      "cell_type": "markdown",
      "metadata": {
        "id": "NrDx0muFT-7J"
      },
      "source": [
        "Como filtrar colunas e linhas específicas do DataFrame.\n",
        "\n",
        "| ![Filtrando os Dados](https://pandas.pydata.org/docs/_images/03_subset_columns_rows.svg) |\n",
        "|:--:| \n",
        "| _Filtrando os Dados_ (Fonte da imagem: [Pandas](https://pandas.pydata.org/)) |"
      ]
    },
    {
      "cell_type": "code",
      "execution_count": null,
      "metadata": {
        "id": "jKrE8QffTbJI"
      },
      "outputs": [],
      "source": [
        "#quero acessar area maior que 200000 e apenas a coluna Estado sigla\n",
        "\n",
        "df[df['Área (ha)'] > 200000]"
      ]
    },
    {
      "cell_type": "code",
      "execution_count": null,
      "metadata": {
        "id": "ZqoOQC78CbKr"
      },
      "outputs": [],
      "source": [
        "df.loc[df['Área (ha)'] > 200000, ['Estado sigla', 'País']]"
      ]
    },
    {
      "cell_type": "code",
      "execution_count": null,
      "metadata": {
        "id": "TwA94ZzYCbKr"
      },
      "outputs": [],
      "source": [
        "df.loc[[1, 3, 5, 8], ['Estado sigla', 'País']]"
      ]
    },
    {
      "cell_type": "code",
      "execution_count": null,
      "metadata": {
        "id": "Eb8tpip1CbKs"
      },
      "outputs": [],
      "source": [
        "df.loc[1:10, ['Estado sigla', 'País']]"
      ]
    },
    {
      "cell_type": "code",
      "execution_count": null,
      "metadata": {
        "id": "bIYZfz9RCbKs"
      },
      "outputs": [],
      "source": [
        "df[df['Área (ha)'] > 200000]['Estado sigla']"
      ]
    },
    {
      "cell_type": "code",
      "execution_count": null,
      "metadata": {
        "id": "QnhR1c9yTbGD"
      },
      "outputs": [],
      "source": [
        "df[df['Área (ha)'] > 200000][['Ano (data)', 'Estado sigla', 'Área (ha)']]"
      ]
    },
    {
      "cell_type": "markdown",
      "metadata": {
        "id": "qEnH2NDSV53g"
      },
      "source": [
        "Como criar novas colunas no DataFrame.\n",
        "\n",
        "| ![Novas Colunas](https://pandas.pydata.org/docs/_images/05_newcolumn_1.svg) |\n",
        "|:--:| \n",
        "| _Novas Colunas_ (Fonte da imagem: [Pandas](https://pandas.pydata.org/)) |"
      ]
    },
    {
      "cell_type": "code",
      "execution_count": null,
      "metadata": {
        "id": "uTcE8Z0MTbDE"
      },
      "outputs": [],
      "source": [
        "df['Nova Coluna'] = df['País'] "
      ]
    },
    {
      "cell_type": "code",
      "execution_count": null,
      "metadata": {
        "id": "6INy0oG5KPUh"
      },
      "outputs": [],
      "source": [
        "df.head(5)"
      ]
    },
    {
      "cell_type": "code",
      "execution_count": null,
      "metadata": {
        "id": "2PEpEyx1KXzJ"
      },
      "outputs": [],
      "source": [
        "# valores_area = df['Área (ha)']\n",
        "\n",
        "# df['Nível'] = ['Alto' if area > 200000 else 'Baixo' for area in valores_area]\n",
        "\n",
        "df['Nível'] = ['Alto' if area > 200000 else 'Baixo' for area in df['Área (ha)']]\n",
        "\n",
        "# valores_nivel = []\n",
        "\n",
        "# for area in valores_area:\n",
        "#     if area > 200000:\n",
        "#         valores_nivel.append(\"Alto\")\n",
        "#     else:\n",
        "#         valores_nivel.append(\"Baixo\")\n",
        "\n",
        "# df['Nível'] = valores_nivel"
      ]
    },
    {
      "cell_type": "code",
      "execution_count": null,
      "metadata": {
        "id": "_uYrt6TDCbKu"
      },
      "outputs": [],
      "source": [
        "df.head()"
      ]
    },
    {
      "cell_type": "code",
      "execution_count": null,
      "metadata": {
        "id": "_2tlhEzCCbKv"
      },
      "outputs": [],
      "source": [
        "df.columns"
      ]
    },
    {
      "cell_type": "code",
      "execution_count": null,
      "metadata": {
        "id": "6fzoQCoGTa_9"
      },
      "outputs": [],
      "source": [
        "# verificando a nova coluna criada\n",
        "#vou filtrar por area maior que 175000\n",
        "\n",
        "df[df['Área (ha)'] > 175000]"
      ]
    },
    {
      "cell_type": "code",
      "execution_count": null,
      "metadata": {
        "id": "tsxm_HYeTa8k"
      },
      "outputs": [],
      "source": [
        "# principais medidas estatisticas para as variáveis numéricas\n",
        "df.describe()"
      ]
    },
    {
      "cell_type": "code",
      "execution_count": null,
      "metadata": {
        "id": "8VskYg39Ta5E"
      },
      "outputs": [],
      "source": [
        "# calculando as medidas de agregação"
      ]
    },
    {
      "cell_type": "code",
      "execution_count": null,
      "metadata": {
        "id": "gPEZzSSkXy7f"
      },
      "outputs": [],
      "source": [
        "# media\n",
        "df['Área (ha)'].mean()"
      ]
    },
    {
      "cell_type": "code",
      "execution_count": null,
      "metadata": {
        "id": "FCRR8oqNX5do"
      },
      "outputs": [],
      "source": [
        "# mediana\n",
        "df['Área (ha)'].median()"
      ]
    },
    {
      "cell_type": "code",
      "execution_count": null,
      "metadata": {
        "id": "f2cVZjjuX5aB"
      },
      "outputs": [],
      "source": [
        "# soma\n",
        "df['Área (ha)'].sum()"
      ]
    },
    {
      "cell_type": "markdown",
      "metadata": {
        "id": "v3ByjISIYKPZ"
      },
      "source": [
        "Como criar medidas agregadas agrpando por categoria no DataFrame.\n",
        "\n",
        "| ![Group by](https://pandas.pydata.org/docs/_images/06_groupby.svg) |\n",
        "|:--:| \n",
        "| _Group by_ (Fonte da imagem: [Pandas](https://pandas.pydata.org/)) |"
      ]
    },
    {
      "cell_type": "code",
      "execution_count": null,
      "metadata": {
        "id": "_MIAooU0X5WF"
      },
      "outputs": [],
      "source": [
        "# media por estado\n",
        "df_estados = df[['Estado sigla', 'Área (ha)']]"
      ]
    },
    {
      "cell_type": "code",
      "execution_count": null,
      "metadata": {
        "id": "z3uB1faWCbKx"
      },
      "outputs": [],
      "source": [
        "df_estados.head()"
      ]
    },
    {
      "cell_type": "code",
      "execution_count": null,
      "metadata": {
        "id": "j9hinct3CbKy"
      },
      "outputs": [],
      "source": [
        "df_estados_media = df_estados.groupby('Estado sigla').mean()"
      ]
    },
    {
      "cell_type": "code",
      "execution_count": null,
      "metadata": {
        "id": "JXLKrmkhCbKy"
      },
      "outputs": [],
      "source": [
        "df_estados"
      ]
    },
    {
      "cell_type": "code",
      "execution_count": null,
      "metadata": {
        "id": "v2H6v79QCbKy"
      },
      "outputs": [],
      "source": [
        "df_estados_media = df_estados_media.rename(columns = {'Área (ha)':'Média Área (ha)'})"
      ]
    },
    {
      "cell_type": "code",
      "execution_count": null,
      "metadata": {
        "id": "GgqlqZa0CbKz"
      },
      "outputs": [],
      "source": [
        "df_estados_media"
      ]
    },
    {
      "cell_type": "code",
      "execution_count": null,
      "metadata": {
        "id": "4hYx0lAyX5PF"
      },
      "outputs": [],
      "source": [
        "# soma por especie\n",
        "df_floresta = df[['Espécie florestal', 'Área (ha)']]\n",
        "#ou\n",
        "df_floresta_soma = df_floresta.groupby('Espécie florestal').sum()\n"
      ]
    },
    {
      "cell_type": "code",
      "execution_count": null,
      "metadata": {
        "id": "Efw0k3DNCbKz"
      },
      "outputs": [],
      "source": [
        "df_floresta.head()"
      ]
    },
    {
      "cell_type": "code",
      "execution_count": null,
      "metadata": {
        "id": "MypMX0qgCbK0"
      },
      "outputs": [],
      "source": [
        "df_floresta_soma = df_floresta.groupby('Espécie florestal').sum()"
      ]
    },
    {
      "cell_type": "code",
      "execution_count": null,
      "metadata": {
        "id": "4mod2iZECbK0"
      },
      "outputs": [],
      "source": [
        "df_floresta_soma"
      ]
    },
    {
      "cell_type": "code",
      "execution_count": null,
      "metadata": {
        "id": "ZeEq5TsoZFg4",
        "colab": {
          "base_uri": "https://localhost:8080/"
        },
        "outputId": "5a433ecd-2549-4d8f-ffd6-3b28fb10d577"
      },
      "outputs": [
        {
          "output_type": "execute_result",
          "data": {
            "text/plain": [
              "Região\n",
              "Centro Oeste     3105\n",
              "Nordeste         2727\n",
              "Norte            1413\n",
              "Sudeste         13203\n",
              "Sul             10566\n",
              "Name: Região, dtype: int64"
            ]
          },
          "metadata": {},
          "execution_count": 10
        }
      ],
      "source": [
        "# contando os registros por categoria\n",
        "df_regiao = df.groupby('Região')['Região'].count()\n",
        "df_regiao"
      ]
    },
    {
      "cell_type": "code",
      "execution_count": null,
      "metadata": {
        "id": "QXWVZ-WGQXzI",
        "colab": {
          "base_uri": "https://localhost:8080/"
        },
        "outputId": "a1c42c5c-984d-4b8a-89e8-28edce71233a"
      },
      "outputs": [
        {
          "output_type": "execute_result",
          "data": {
            "text/plain": [
              "Eucalipto          10338\n",
              "Pinus              10338\n",
              "Outras espécies    10338\n",
              "Name: Espécie florestal, dtype: int64"
            ]
          },
          "metadata": {},
          "execution_count": 9
        }
      ],
      "source": [
        "df['Espécie florestal'].value_counts()"
      ]
    },
    {
      "cell_type": "code",
      "execution_count": null,
      "metadata": {
        "id": "JzTfcEKZQtC9"
      },
      "outputs": [],
      "source": [
        "lista_colunas = df.columns"
      ]
    },
    {
      "cell_type": "code",
      "execution_count": null,
      "metadata": {
        "id": "v97CaJHVQ0Ie"
      },
      "outputs": [],
      "source": [
        "lista_colunas"
      ]
    },
    {
      "cell_type": "code",
      "execution_count": null,
      "metadata": {
        "id": "LcTViP4kQ6to"
      },
      "outputs": [],
      "source": [
        "# verificando a quantidade de registros de todas as colunas\n",
        "for coluna in lista_colunas:\n",
        "    print(f'\\n##### {coluna} #####')\n",
        "    print(df[coluna].value_counts())"
      ]
    },
    {
      "cell_type": "code",
      "execution_count": null,
      "metadata": {
        "id": "MIrP7gMqZLd7"
      },
      "outputs": [],
      "source": [
        "# buscando registros por string\n",
        "df[df['Município (Municípios)'].str.contains('Salvador')]"
      ]
    },
    {
      "cell_type": "code",
      "execution_count": null,
      "metadata": {
        "id": "J5hq74IFZLay"
      },
      "outputs": [],
      "source": [
        "# selecionando o primeiro nome de uma variavel do tipo string\n",
        "df[df['Município (Municípios)'].str.contains('Salvador')]['Município (Municípios)'].unique()"
      ]
    },
    {
      "cell_type": "code",
      "execution_count": null,
      "metadata": {
        "id": "90lYsL2mZLTC"
      },
      "outputs": [],
      "source": [
        "# selecionando o valor distinto variavel do tipo string\n",
        "df['Estado sigla'].unique()"
      ]
    },
    {
      "cell_type": "code",
      "execution_count": null,
      "metadata": {
        "id": "SxxKtrEoTmuz"
      },
      "outputs": [],
      "source": [
        "df['Estado sigla'].unique()"
      ]
    },
    {
      "cell_type": "code",
      "execution_count": null,
      "metadata": {
        "id": "gtW-4gkM6Jhi"
      },
      "outputs": [],
      "source": [
        "# removendo colunas do dataframe\n"
      ]
    },
    {
      "cell_type": "code",
      "execution_count": null,
      "metadata": {
        "id": "mVl8vvCg6JeZ"
      },
      "outputs": [],
      "source": [
        "# renomeando colunas do dataframe\n",
        "df.drop(columns = ['Nova Coluna', 'Nível'], inplace = True)\n",
        "#o inplece diz se as operações executdas no drop afetarão o dataframe inicial"
      ]
    },
    {
      "cell_type": "code",
      "execution_count": null,
      "metadata": {
        "id": "pnbAv7DPCbK3"
      },
      "outputs": [],
      "source": [
        "df"
      ]
    },
    {
      "cell_type": "code",
      "execution_count": null,
      "metadata": {
        "id": "NPyIYrVb6JbJ"
      },
      "outputs": [],
      "source": [
        "# ordenando os dado do dataframe\n",
        "df.sort_values('Ano (data)', ascending = True, inplace = True)\n",
        "\n",
        "df = df.reset_index(drop = True)\n",
        "\n",
        "# gravando os dados em arquivo csv\n",
        "df.to_csv('florestas-aula.csv', index = False)"
      ]
    },
    {
      "cell_type": "code",
      "execution_count": null,
      "metadata": {
        "id": "GvmbcWyK9Ajr"
      },
      "outputs": [],
      "source": [
        "df.sort_values('Ano (data)', ascending = True, inplace = True)"
      ]
    },
    {
      "cell_type": "code",
      "execution_count": null,
      "metadata": {
        "id": "hCoc6h9QVm7j"
      },
      "outputs": [],
      "source": [
        "df"
      ]
    },
    {
      "cell_type": "code",
      "execution_count": null,
      "metadata": {
        "id": "8ES2BI0ZCbK4"
      },
      "outputs": [],
      "source": [
        "df = df.reset_index(drop = True)"
      ]
    },
    {
      "cell_type": "code",
      "execution_count": null,
      "metadata": {
        "id": "qo1lgL_7CbK5"
      },
      "outputs": [],
      "source": [
        "df"
      ]
    },
    {
      "cell_type": "code",
      "execution_count": null,
      "metadata": {
        "id": "_ylL6aRL6JVr"
      },
      "outputs": [],
      "source": [
        "# gravando os dados em arquivo csv\n",
        "df.to_csv('florestas-aula.csv', index = False)"
      ]
    },
    {
      "cell_type": "code",
      "execution_count": null,
      "metadata": {
        "id": "qXz4JQPmWB0s"
      },
      "outputs": [],
      "source": [
        "# lendo um arquivo csv local\n"
      ]
    },
    {
      "cell_type": "code",
      "execution_count": null,
      "metadata": {
        "id": "az1kf_9DWJFn"
      },
      "outputs": [],
      "source": []
    },
    {
      "cell_type": "markdown",
      "metadata": {
        "id": "OPMRMK4LXFCt"
      },
      "source": [
        "### Outros Exemplos"
      ]
    },
    {
      "cell_type": "code",
      "execution_count": null,
      "metadata": {
        "id": "erhB2xzfXHfd"
      },
      "outputs": [],
      "source": []
    },
    {
      "cell_type": "code",
      "execution_count": null,
      "metadata": {
        "id": "Qn1pFY_VXNBT"
      },
      "outputs": [],
      "source": []
    },
    {
      "cell_type": "code",
      "execution_count": null,
      "metadata": {
        "id": "NJeRKSReXV59"
      },
      "outputs": [],
      "source": []
    },
    {
      "cell_type": "code",
      "execution_count": null,
      "metadata": {
        "id": "aHKDscofCbK6"
      },
      "outputs": [],
      "source": []
    }
  ],
  "metadata": {
    "colab": {
      "collapsed_sections": [
        "J11TWEzIPqV4",
        "aIzrq3q8Pt8V",
        "VVj-kUanPvrO",
        "8RXo5si_QIpb",
        "OPMRMK4LXFCt"
      ],
      "provenance": []
    },
    "kernelspec": {
      "display_name": "Python 3.8.10 64-bit",
      "language": "python",
      "name": "python3"
    },
    "language_info": {
      "codemirror_mode": {
        "name": "ipython",
        "version": 3
      },
      "file_extension": ".py",
      "mimetype": "text/x-python",
      "name": "python",
      "nbconvert_exporter": "python",
      "pygments_lexer": "ipython3",
      "version": "3.8.10"
    },
    "vscode": {
      "interpreter": {
        "hash": "916dbcbb3f70747c44a77c7bcd40155683ae19c65e1c03b4aa3499c5328201f1"
      }
    }
  },
  "nbformat": 4,
  "nbformat_minor": 0
}